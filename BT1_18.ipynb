{
  "nbformat": 4,
  "nbformat_minor": 0,
  "metadata": {
    "colab": {
      "name": "BT1-18.ipynb",
      "provenance": [],
      "authorship_tag": "ABX9TyPp0nA7eDVeAXRmsUmrYeFV",
      "include_colab_link": true
    },
    "kernelspec": {
      "name": "python3",
      "display_name": "Python 3"
    },
    "language_info": {
      "name": "python"
    }
  },
  "cells": [
    {
      "cell_type": "markdown",
      "metadata": {
        "id": "view-in-github",
        "colab_type": "text"
      },
      "source": [
        "<a href=\"https://colab.research.google.com/github/McATung/AI/blob/main/BT1_18.ipynb\" target=\"_parent\"><img src=\"https://colab.research.google.com/assets/colab-badge.svg\" alt=\"Open In Colab\"/></a>"
      ]
    },
    {
      "cell_type": "code",
      "execution_count": null,
      "metadata": {
        "id": "brIqTUMEmwcY"
      },
      "outputs": [],
      "source": [
        "#import thư viện\n",
        "import numpy as np #thư viện xử lý ma trận\n",
        "from keras.utils import np_utils # thư viện xử lý chuyển class\n",
        "from keras.datasets import cifar100 # gọi tập dataset động vật, máy bay \n",
        "from keras.models import Sequential # hàm chạy mô hình\n",
        "from keras.layers import Dense, Dropout # tạo mạng nơ ron\n",
        "from tensorflow.keras.optimizers import RMSprop \n",
        "import matplotlib.pyplot as plt  # thư viện dùng để vẽ\n",
        "from keras.backend import dropout"
      ]
    },
    {
      "cell_type": "code",
      "source": [
        "# chia tập dữ liệu thành 2 bộ train và test\n",
        "(x_train, y_train),(x_test,y_test) = cifar100.load_data()"
      ],
      "metadata": {
        "colab": {
          "base_uri": "https://localhost:8080/"
        },
        "id": "x9a5w1a-m0oA",
        "outputId": "80282f78-5bce-49c5-a3b3-da1060c8142b"
      },
      "execution_count": null,
      "outputs": [
        {
          "output_type": "stream",
          "name": "stdout",
          "text": [
            "Downloading data from https://www.cs.toronto.edu/~kriz/cifar-100-python.tar.gz\n",
            "169009152/169001437 [==============================] - 6s 0us/step\n",
            "169017344/169001437 [==============================] - 6s 0us/step\n"
          ]
        }
      ]
    },
    {
      "cell_type": "code",
      "source": [
        "# xem kích thược của tập dữ liệu\n",
        "print('Kích thước x_train: ', x_train.shape)\n",
        "print('Kích thước y_train: ', y_train.shape)\n",
        "print('Kích thước x_test: ', x_test.shape)\n",
        "print('Kích thước y_test: ', y_test.shape)"
      ],
      "metadata": {
        "colab": {
          "base_uri": "https://localhost:8080/"
        },
        "id": "0jynX8kBnTgu",
        "outputId": "038d8da4-87b2-4c3a-e889-37cf54709544"
      },
      "execution_count": null,
      "outputs": [
        {
          "output_type": "stream",
          "name": "stdout",
          "text": [
            "Kích thước x_train:  (50000, 32, 32, 3)\n",
            "Kích thước y_train:  (50000, 1)\n",
            "Kích thước x_test:  (10000, 32, 32, 3)\n",
            "Kích thước y_test:  (10000, 1)\n"
          ]
        }
      ]
    },
    {
      "cell_type": "code",
      "source": [
        "#chuyển chiều của x từ 3 chiều về 2 chiều VÌ cifar10 ở đầu vào có 4 chiều để chuyển về\n",
        "# 2 chiều bằng cách 32*32*3=3072\n",
        "x_train = x_train.reshape(50000,3072)\n",
        "x_test = x_test.reshape(10000,3072)\n",
        "# ép kiểu\n",
        "x_train = x_train.astype('float32')\n",
        "x_test = x_test.astype('float32')\n",
        "#chuẩn hóa dữ liệu\n",
        "x_train /=255\n",
        "x_test /=255\n",
        "#chuyển y từ 1 class thành 10 class\n",
        "y_train = np_utils.to_categorical(y_train,100)\n",
        "y_test = np_utils.to_categorical(y_test,100)"
      ],
      "metadata": {
        "id": "meMvqOGRnXFu"
      },
      "execution_count": null,
      "outputs": []
    },
    {
      "cell_type": "code",
      "source": [
        "#tạo mạng nơ-ron\n",
        "model = Sequential()\n",
        "model.add(Dense(512,activation='relu',input_shape=(3072,)))\n",
        "model.add(Dropout(0.2))\n",
        "model.add(Dense(1000,activation='relu'))\n",
        "model.add(Dropout(0.2))\n",
        "model.add(Dense(1000,activation='relu'))\n",
        "model.add(Dropout(0.2))\n",
        "model.add(Dense(512,activation='relu'))\n",
        "model.add(Dropout(0.2))\n",
        "model.add(Dense(100,activation='softmax'))\n",
        "model.summary()"
      ],
      "metadata": {
        "colab": {
          "base_uri": "https://localhost:8080/"
        },
        "id": "2nQtfR3Knbx3",
        "outputId": "b10c9989-eb88-4bb1-ca3a-31f295fabbdc"
      },
      "execution_count": null,
      "outputs": [
        {
          "output_type": "stream",
          "name": "stdout",
          "text": [
            "Model: \"sequential\"\n",
            "_________________________________________________________________\n",
            " Layer (type)                Output Shape              Param #   \n",
            "=================================================================\n",
            " dense (Dense)               (None, 512)               1573376   \n",
            "                                                                 \n",
            " dropout (Dropout)           (None, 512)               0         \n",
            "                                                                 \n",
            " dense_1 (Dense)             (None, 1000)              513000    \n",
            "                                                                 \n",
            " dropout_1 (Dropout)         (None, 1000)              0         \n",
            "                                                                 \n",
            " dense_2 (Dense)             (None, 1000)              1001000   \n",
            "                                                                 \n",
            " dropout_2 (Dropout)         (None, 1000)              0         \n",
            "                                                                 \n",
            " dense_3 (Dense)             (None, 512)               512512    \n",
            "                                                                 \n",
            " dropout_3 (Dropout)         (None, 512)               0         \n",
            "                                                                 \n",
            " dense_4 (Dense)             (None, 100)               51300     \n",
            "                                                                 \n",
            "=================================================================\n",
            "Total params: 3,651,188\n",
            "Trainable params: 3,651,188\n",
            "Non-trainable params: 0\n",
            "_________________________________________________________________\n"
          ]
        }
      ]
    },
    {
      "cell_type": "code",
      "source": [
        "#chạy model với số lần học là 500 và độ kiên nhẫn là 25\n",
        "model.compile(loss='categorical_crossentropy',optimizer=RMSprop(), metrics=['accuracy'])\n",
        "model.compile(loss='categorical_crossentropy',optimizer=RMSprop(), metrics=['accuracy'])\n",
        "from keras.callbacks import EarlyStopping\n",
        "history = model.fit(x_train,y_train,batch_size=128,epochs=500,verbose=1,\n",
        "                    validation_split=0.2,callbacks=[EarlyStopping(monitor='val_loss',patience=25)])"
      ],
      "metadata": {
        "colab": {
          "base_uri": "https://localhost:8080/"
        },
        "id": "v_afmUM_nfVg",
        "outputId": "22fffd73-18f0-4ca0-8b3d-8a08bf406ecb"
      },
      "execution_count": null,
      "outputs": [
        {
          "output_type": "stream",
          "name": "stdout",
          "text": [
            "Epoch 1/500\n",
            "313/313 [==============================] - 18s 56ms/step - loss: 4.2545 - accuracy: 0.0474 - val_loss: 4.2023 - val_accuracy: 0.0579\n",
            "Epoch 2/500\n",
            "313/313 [==============================] - 17s 55ms/step - loss: 4.0715 - accuracy: 0.0692 - val_loss: 3.9359 - val_accuracy: 0.0908\n",
            "Epoch 3/500\n",
            "313/313 [==============================] - 17s 55ms/step - loss: 3.9545 - accuracy: 0.0870 - val_loss: 3.8491 - val_accuracy: 0.1093\n",
            "Epoch 4/500\n",
            "313/313 [==============================] - 18s 57ms/step - loss: 3.8779 - accuracy: 0.1014 - val_loss: 3.8367 - val_accuracy: 0.1136\n",
            "Epoch 5/500\n",
            "313/313 [==============================] - 17s 55ms/step - loss: 3.8100 - accuracy: 0.1121 - val_loss: 3.7837 - val_accuracy: 0.1218\n",
            "Epoch 6/500\n",
            "313/313 [==============================] - 17s 55ms/step - loss: 3.7634 - accuracy: 0.1178 - val_loss: 3.6653 - val_accuracy: 0.1429\n",
            "Epoch 7/500\n",
            "313/313 [==============================] - 17s 55ms/step - loss: 3.7361 - accuracy: 0.1263 - val_loss: 3.8575 - val_accuracy: 0.1158\n",
            "Epoch 8/500\n",
            "313/313 [==============================] - 17s 55ms/step - loss: 3.6998 - accuracy: 0.1289 - val_loss: 3.6717 - val_accuracy: 0.1395\n",
            "Epoch 9/500\n",
            "313/313 [==============================] - 18s 56ms/step - loss: 3.6933 - accuracy: 0.1353 - val_loss: 3.6281 - val_accuracy: 0.1628\n",
            "Epoch 10/500\n",
            "313/313 [==============================] - 18s 57ms/step - loss: 3.6767 - accuracy: 0.1356 - val_loss: 3.6167 - val_accuracy: 0.1541\n",
            "Epoch 11/500\n",
            "313/313 [==============================] - 18s 57ms/step - loss: 3.6605 - accuracy: 0.1393 - val_loss: 3.6053 - val_accuracy: 0.1615\n",
            "Epoch 12/500\n",
            "313/313 [==============================] - 18s 56ms/step - loss: 3.6436 - accuracy: 0.1447 - val_loss: 3.6972 - val_accuracy: 0.1347\n",
            "Epoch 13/500\n",
            "313/313 [==============================] - 17s 55ms/step - loss: 3.6348 - accuracy: 0.1460 - val_loss: 3.6133 - val_accuracy: 0.1593\n",
            "Epoch 14/500\n",
            "313/313 [==============================] - 17s 56ms/step - loss: 3.6315 - accuracy: 0.1463 - val_loss: 3.6111 - val_accuracy: 0.1648\n",
            "Epoch 15/500\n",
            "313/313 [==============================] - 17s 56ms/step - loss: 3.6179 - accuracy: 0.1492 - val_loss: 3.5891 - val_accuracy: 0.1600\n",
            "Epoch 16/500\n",
            "313/313 [==============================] - 17s 56ms/step - loss: 3.6231 - accuracy: 0.1511 - val_loss: 3.5586 - val_accuracy: 0.1668\n",
            "Epoch 17/500\n",
            "313/313 [==============================] - 18s 56ms/step - loss: 3.6086 - accuracy: 0.1512 - val_loss: 3.6431 - val_accuracy: 0.1511\n",
            "Epoch 18/500\n",
            "313/313 [==============================] - 17s 55ms/step - loss: 3.6031 - accuracy: 0.1519 - val_loss: 3.6203 - val_accuracy: 0.1529\n",
            "Epoch 19/500\n",
            "313/313 [==============================] - 17s 55ms/step - loss: 3.6006 - accuracy: 0.1529 - val_loss: 3.6688 - val_accuracy: 0.1542\n",
            "Epoch 20/500\n",
            "313/313 [==============================] - 17s 56ms/step - loss: 3.5981 - accuracy: 0.1526 - val_loss: 3.7381 - val_accuracy: 0.1322\n",
            "Epoch 21/500\n",
            "313/313 [==============================] - 17s 55ms/step - loss: 3.5990 - accuracy: 0.1530 - val_loss: 3.5813 - val_accuracy: 0.1609\n",
            "Epoch 22/500\n",
            "313/313 [==============================] - 17s 55ms/step - loss: 3.5918 - accuracy: 0.1508 - val_loss: 3.5496 - val_accuracy: 0.1735\n",
            "Epoch 23/500\n",
            "313/313 [==============================] - 17s 56ms/step - loss: 3.5907 - accuracy: 0.1567 - val_loss: 3.5818 - val_accuracy: 0.1618\n",
            "Epoch 24/500\n",
            "313/313 [==============================] - 17s 56ms/step - loss: 3.5824 - accuracy: 0.1540 - val_loss: 3.7298 - val_accuracy: 0.1307\n",
            "Epoch 25/500\n",
            "313/313 [==============================] - 17s 56ms/step - loss: 3.5905 - accuracy: 0.1571 - val_loss: 3.5949 - val_accuracy: 0.1623\n",
            "Epoch 26/500\n",
            "313/313 [==============================] - 18s 58ms/step - loss: 3.5786 - accuracy: 0.1575 - val_loss: 3.5316 - val_accuracy: 0.1767\n",
            "Epoch 27/500\n",
            "313/313 [==============================] - 17s 55ms/step - loss: 3.5754 - accuracy: 0.1559 - val_loss: 3.5273 - val_accuracy: 0.1763\n",
            "Epoch 28/500\n",
            "313/313 [==============================] - 17s 56ms/step - loss: 3.5848 - accuracy: 0.1564 - val_loss: 3.5267 - val_accuracy: 0.1747\n",
            "Epoch 29/500\n",
            "313/313 [==============================] - 18s 56ms/step - loss: 3.5760 - accuracy: 0.1579 - val_loss: 3.5411 - val_accuracy: 0.1755\n",
            "Epoch 30/500\n",
            "313/313 [==============================] - 17s 56ms/step - loss: 3.5743 - accuracy: 0.1553 - val_loss: 3.5294 - val_accuracy: 0.1743\n",
            "Epoch 31/500\n",
            "313/313 [==============================] - 17s 56ms/step - loss: 3.5602 - accuracy: 0.1613 - val_loss: 3.5644 - val_accuracy: 0.1691\n",
            "Epoch 32/500\n",
            "313/313 [==============================] - 17s 55ms/step - loss: 3.5556 - accuracy: 0.1613 - val_loss: 3.5561 - val_accuracy: 0.1634\n",
            "Epoch 33/500\n",
            "313/313 [==============================] - 18s 56ms/step - loss: 3.5713 - accuracy: 0.1613 - val_loss: 3.5336 - val_accuracy: 0.1739\n",
            "Epoch 34/500\n",
            "313/313 [==============================] - 17s 56ms/step - loss: 3.5674 - accuracy: 0.1584 - val_loss: 3.5547 - val_accuracy: 0.1744\n",
            "Epoch 35/500\n",
            "313/313 [==============================] - 17s 55ms/step - loss: 3.5697 - accuracy: 0.1583 - val_loss: 3.4952 - val_accuracy: 0.1747\n",
            "Epoch 36/500\n",
            "313/313 [==============================] - 17s 56ms/step - loss: 3.5704 - accuracy: 0.1582 - val_loss: 3.5190 - val_accuracy: 0.1766\n",
            "Epoch 37/500\n",
            "313/313 [==============================] - 17s 56ms/step - loss: 3.5582 - accuracy: 0.1596 - val_loss: 3.5203 - val_accuracy: 0.1808\n",
            "Epoch 38/500\n",
            "313/313 [==============================] - 17s 56ms/step - loss: 3.5589 - accuracy: 0.1596 - val_loss: 3.5829 - val_accuracy: 0.1686\n",
            "Epoch 39/500\n",
            "313/313 [==============================] - 17s 55ms/step - loss: 3.5640 - accuracy: 0.1604 - val_loss: 3.5480 - val_accuracy: 0.1771\n",
            "Epoch 40/500\n",
            "313/313 [==============================] - 17s 56ms/step - loss: 3.5641 - accuracy: 0.1608 - val_loss: 3.5248 - val_accuracy: 0.1782\n",
            "Epoch 41/500\n",
            "313/313 [==============================] - 17s 56ms/step - loss: 3.5710 - accuracy: 0.1598 - val_loss: 3.5300 - val_accuracy: 0.1761\n",
            "Epoch 42/500\n",
            "313/313 [==============================] - 17s 55ms/step - loss: 3.5560 - accuracy: 0.1606 - val_loss: 3.5909 - val_accuracy: 0.1621\n",
            "Epoch 43/500\n",
            "313/313 [==============================] - 17s 56ms/step - loss: 3.5616 - accuracy: 0.1595 - val_loss: 3.6693 - val_accuracy: 0.1432\n",
            "Epoch 44/500\n",
            "313/313 [==============================] - 18s 56ms/step - loss: 3.5612 - accuracy: 0.1621 - val_loss: 3.5806 - val_accuracy: 0.1651\n",
            "Epoch 45/500\n",
            "313/313 [==============================] - 17s 56ms/step - loss: 3.5569 - accuracy: 0.1623 - val_loss: 3.5099 - val_accuracy: 0.1801\n",
            "Epoch 46/500\n",
            "313/313 [==============================] - 17s 56ms/step - loss: 3.5490 - accuracy: 0.1629 - val_loss: 3.5387 - val_accuracy: 0.1751\n",
            "Epoch 47/500\n",
            "313/313 [==============================] - 18s 56ms/step - loss: 3.5616 - accuracy: 0.1620 - val_loss: 3.5438 - val_accuracy: 0.1709\n",
            "Epoch 48/500\n",
            "313/313 [==============================] - 17s 55ms/step - loss: 3.5444 - accuracy: 0.1649 - val_loss: 3.6303 - val_accuracy: 0.1587\n",
            "Epoch 49/500\n",
            "313/313 [==============================] - 17s 55ms/step - loss: 3.5455 - accuracy: 0.1655 - val_loss: 3.6203 - val_accuracy: 0.1577\n",
            "Epoch 50/500\n",
            "313/313 [==============================] - 18s 56ms/step - loss: 3.5512 - accuracy: 0.1623 - val_loss: 3.5918 - val_accuracy: 0.1617\n",
            "Epoch 51/500\n",
            "313/313 [==============================] - 17s 56ms/step - loss: 3.5550 - accuracy: 0.1617 - val_loss: 3.4745 - val_accuracy: 0.1846\n",
            "Epoch 52/500\n",
            "313/313 [==============================] - 17s 56ms/step - loss: 3.5465 - accuracy: 0.1669 - val_loss: 3.5892 - val_accuracy: 0.1672\n",
            "Epoch 53/500\n",
            "313/313 [==============================] - 17s 56ms/step - loss: 3.5538 - accuracy: 0.1636 - val_loss: 3.4913 - val_accuracy: 0.1776\n",
            "Epoch 54/500\n",
            "313/313 [==============================] - 17s 56ms/step - loss: 3.5474 - accuracy: 0.1619 - val_loss: 3.5494 - val_accuracy: 0.1727\n",
            "Epoch 55/500\n",
            "313/313 [==============================] - 17s 56ms/step - loss: 3.5512 - accuracy: 0.1626 - val_loss: 3.5840 - val_accuracy: 0.1707\n",
            "Epoch 56/500\n",
            "313/313 [==============================] - 17s 55ms/step - loss: 3.5489 - accuracy: 0.1660 - val_loss: 3.5509 - val_accuracy: 0.1747\n",
            "Epoch 57/500\n",
            "313/313 [==============================] - 18s 56ms/step - loss: 3.5549 - accuracy: 0.1625 - val_loss: 3.5489 - val_accuracy: 0.1744\n",
            "Epoch 58/500\n",
            "313/313 [==============================] - 18s 56ms/step - loss: 3.5485 - accuracy: 0.1638 - val_loss: 3.5348 - val_accuracy: 0.1775\n",
            "Epoch 59/500\n",
            "313/313 [==============================] - 18s 56ms/step - loss: 3.5450 - accuracy: 0.1661 - val_loss: 3.5164 - val_accuracy: 0.1805\n",
            "Epoch 60/500\n",
            "313/313 [==============================] - 18s 56ms/step - loss: 3.5412 - accuracy: 0.1667 - val_loss: 3.4532 - val_accuracy: 0.1901\n",
            "Epoch 61/500\n",
            "313/313 [==============================] - 18s 56ms/step - loss: 3.5583 - accuracy: 0.1627 - val_loss: 3.6365 - val_accuracy: 0.1620\n",
            "Epoch 62/500\n",
            "313/313 [==============================] - 18s 56ms/step - loss: 3.5429 - accuracy: 0.1662 - val_loss: 3.5813 - val_accuracy: 0.1662\n",
            "Epoch 63/500\n",
            "313/313 [==============================] - 17s 56ms/step - loss: 3.5558 - accuracy: 0.1612 - val_loss: 3.5186 - val_accuracy: 0.1774\n",
            "Epoch 64/500\n",
            "313/313 [==============================] - 17s 56ms/step - loss: 3.5563 - accuracy: 0.1620 - val_loss: 3.5244 - val_accuracy: 0.1754\n",
            "Epoch 65/500\n",
            "313/313 [==============================] - 18s 56ms/step - loss: 3.5550 - accuracy: 0.1615 - val_loss: 3.5610 - val_accuracy: 0.1722\n",
            "Epoch 66/500\n",
            "313/313 [==============================] - 18s 56ms/step - loss: 3.5485 - accuracy: 0.1640 - val_loss: 3.5143 - val_accuracy: 0.1776\n",
            "Epoch 67/500\n",
            "313/313 [==============================] - 18s 56ms/step - loss: 3.5543 - accuracy: 0.1657 - val_loss: 3.4911 - val_accuracy: 0.1801\n",
            "Epoch 68/500\n",
            "313/313 [==============================] - 18s 56ms/step - loss: 3.5378 - accuracy: 0.1637 - val_loss: 3.5622 - val_accuracy: 0.1720\n",
            "Epoch 69/500\n",
            "313/313 [==============================] - 17s 56ms/step - loss: 3.5409 - accuracy: 0.1653 - val_loss: 3.5026 - val_accuracy: 0.1731\n",
            "Epoch 70/500\n",
            "313/313 [==============================] - 17s 56ms/step - loss: 3.5365 - accuracy: 0.1655 - val_loss: 3.5286 - val_accuracy: 0.1768\n",
            "Epoch 71/500\n",
            "313/313 [==============================] - 18s 56ms/step - loss: 3.5556 - accuracy: 0.1623 - val_loss: 3.5992 - val_accuracy: 0.1652\n",
            "Epoch 72/500\n",
            "313/313 [==============================] - 18s 56ms/step - loss: 3.5462 - accuracy: 0.1670 - val_loss: 3.5033 - val_accuracy: 0.1806\n",
            "Epoch 73/500\n",
            "313/313 [==============================] - 18s 56ms/step - loss: 3.5542 - accuracy: 0.1639 - val_loss: 3.5242 - val_accuracy: 0.1733\n",
            "Epoch 74/500\n",
            "313/313 [==============================] - 18s 56ms/step - loss: 3.5445 - accuracy: 0.1634 - val_loss: 3.5430 - val_accuracy: 0.1700\n",
            "Epoch 75/500\n",
            "313/313 [==============================] - 18s 56ms/step - loss: 3.5483 - accuracy: 0.1631 - val_loss: 3.4897 - val_accuracy: 0.1845\n",
            "Epoch 76/500\n",
            "313/313 [==============================] - 18s 56ms/step - loss: 3.5329 - accuracy: 0.1664 - val_loss: 3.5475 - val_accuracy: 0.1701\n",
            "Epoch 77/500\n",
            "313/313 [==============================] - 18s 56ms/step - loss: 3.5525 - accuracy: 0.1655 - val_loss: 3.5869 - val_accuracy: 0.1625\n",
            "Epoch 78/500\n",
            "313/313 [==============================] - 18s 56ms/step - loss: 3.5372 - accuracy: 0.1671 - val_loss: 3.4654 - val_accuracy: 0.1902\n",
            "Epoch 79/500\n",
            "313/313 [==============================] - 18s 57ms/step - loss: 3.5397 - accuracy: 0.1677 - val_loss: 3.5194 - val_accuracy: 0.1748\n",
            "Epoch 80/500\n",
            "313/313 [==============================] - 18s 56ms/step - loss: 3.5517 - accuracy: 0.1633 - val_loss: 3.4667 - val_accuracy: 0.1904\n",
            "Epoch 81/500\n",
            "313/313 [==============================] - 17s 56ms/step - loss: 3.5556 - accuracy: 0.1662 - val_loss: 3.5921 - val_accuracy: 0.1647\n",
            "Epoch 82/500\n",
            "313/313 [==============================] - 18s 56ms/step - loss: 3.5502 - accuracy: 0.1638 - val_loss: 3.4795 - val_accuracy: 0.1855\n",
            "Epoch 83/500\n",
            "313/313 [==============================] - 18s 56ms/step - loss: 3.5428 - accuracy: 0.1668 - val_loss: 3.5152 - val_accuracy: 0.1811\n",
            "Epoch 84/500\n",
            "313/313 [==============================] - 18s 56ms/step - loss: 3.5473 - accuracy: 0.1628 - val_loss: 3.5722 - val_accuracy: 0.1647\n",
            "Epoch 85/500\n",
            "313/313 [==============================] - 18s 57ms/step - loss: 3.5354 - accuracy: 0.1671 - val_loss: 3.4863 - val_accuracy: 0.1861\n"
          ]
        }
      ]
    },
    {
      "cell_type": "code",
      "source": [
        "#đánh giá chất lượng của mô hình và vẽ lại\n",
        "score = model.evaluate(x_test,y_test,verbose=0)\n",
        "print('Sai số kiểm tra là: ',score[0])\n",
        "print('Độ chính xác kiểm tra là: ',score[1])\n",
        "#vẽ đồ thị\n",
        "plt.plot(history.history['accuracy'])\n",
        "plt.plot(history.history['val_accuracy'])\n",
        "plt.title('model accuracy')\n",
        "plt.ylabel('accuracy')\n",
        "plt.xlabel('epochs')\n",
        "plt.legend(['train','Validation'])\n",
        "plt.show()"
      ],
      "metadata": {
        "id": "uRh5npYMtv3I",
        "outputId": "bfc5e8a0-c25a-4e2f-e4d1-04e25cee6f13",
        "colab": {
          "base_uri": "https://localhost:8080/",
          "height": 330
        }
      },
      "execution_count": null,
      "outputs": [
        {
          "output_type": "stream",
          "name": "stdout",
          "text": [
            "Sai số kiểm tra là:  3.4855518341064453\n",
            "Độ chính xác kiểm tra là:  0.18070000410079956\n"
          ]
        },
        {
          "output_type": "display_data",
          "data": {
            "text/plain": [
              "<Figure size 432x288 with 1 Axes>"
            ],
            "image/png": "[encoded data removed]"
          },
          "metadata": {
            "needs_background": "light"
          }
        }
      ]
    }
  ]
}