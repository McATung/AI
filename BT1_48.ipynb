{
  "nbformat": 4,
  "nbformat_minor": 0,
  "metadata": {
    "colab": {
      "name": "BT1-48.ipynb",
      "provenance": [],
      "authorship_tag": "ABX9TyOcnaKJubfrTSvl80RXiY5M",
      "include_colab_link": true
    },
    "kernelspec": {
      "name": "python3",
      "display_name": "Python 3"
    },
    "language_info": {
      "name": "python"
    }
  },
  "cells": [
    {
      "cell_type": "markdown",
      "metadata": {
        "id": "view-in-github",
        "colab_type": "text"
      },
      "source": [
        "<a href=\"https://colab.research.google.com/github/McATung/AI/blob/main/BT1_48.ipynb\" target=\"_parent\"><img src=\"https://colab.research.google.com/assets/colab-badge.svg\" alt=\"Open In Colab\"/></a>"
      ]
    },
    {
      "cell_type": "code",
      "execution_count": null,
      "metadata": {
        "id": "P9axnRB9leBj"
      },
      "outputs": [],
      "source": [
        "#import thư viện\n",
        "import numpy as np #thư viện xử lý ma trận\n",
        "from keras.utils import np_utils # thư viện xử lý chuyển class\n",
        "from keras.datasets import cifar10 # gọi tập dataset động vật, máy bay \n",
        "from keras.models import Sequential # hàm chạy mô hình\n",
        "from keras.layers import Dense, Dropout # tạo mạng nơ ron\n",
        "from tensorflow.keras.optimizers import RMSprop \n",
        "import matplotlib.pyplot as plt  # thư viện dùng để vẽ\n",
        "from keras.backend import dropout"
      ]
    },
    {
      "cell_type": "code",
      "source": [
        "# chia tập dữ liệu thành 2 bộ train và test\n",
        "(x_train, y_train),(x_test,y_test) = cifar10.load_data()"
      ],
      "metadata": {
        "id": "RcE3oAb5lesx"
      },
      "execution_count": null,
      "outputs": []
    },
    {
      "cell_type": "code",
      "source": [
        "# xem kích thược của tập dữ liệu\n",
        "print('Kích thước x_train: ', x_train.shape)\n",
        "print('Kích thước y_train: ', y_train.shape)\n",
        "print('Kích thước x_test: ', x_test.shape)\n",
        "print('Kích thước y_test: ', y_test.shape)"
      ],
      "metadata": {
        "colab": {
          "base_uri": "https://localhost:8080/"
        },
        "id": "cmneOm1aljom",
        "outputId": "614d9e52-a683-444d-99af-41123dc1fab5"
      },
      "execution_count": null,
      "outputs": [
        {
          "output_type": "stream",
          "name": "stdout",
          "text": [
            "Kích thước x_train:  (50000, 32, 32, 3)\n",
            "Kích thước y_train:  (50000, 1)\n",
            "Kích thước x_test:  (10000, 32, 32, 3)\n",
            "Kích thước y_test:  (10000, 1)\n"
          ]
        }
      ]
    },
    {
      "cell_type": "code",
      "source": [
        "#chuyển chiều của x từ 3 chiều về 2 chiều VÌ cifar10 ở đầu vào có 4 chiều để chuyển về\n",
        "# 2 chiều bằng cách 32*32*3=3072\n",
        "x_train = x_train.reshape(50000,3072)\n",
        "x_test = x_test.reshape(10000,3072)\n",
        "# ép kiểu\n",
        "x_train = x_train.astype('float32')\n",
        "x_test = x_test.astype('float32')\n",
        "#chuẩn hóa dữ liệu\n",
        "x_train /=255\n",
        "x_test /=255\n",
        "#chuyển y từ 1 class thành 10 class\n",
        "y_train = np_utils.to_categorical(y_train,10)\n",
        "y_test = np_utils.to_categorical(y_test,10)"
      ],
      "metadata": {
        "id": "x1WZM5vvlsB3"
      },
      "execution_count": null,
      "outputs": []
    },
    {
      "cell_type": "code",
      "source": [
        "#tạo mạng nơ-ron\n",
        "model = Sequential()\n",
        "model.add(Dense(512,activation='relu',input_shape=(3072,)))\n",
        "model.add(Dropout(0.2))\n",
        "model.add(Dense(512,activation='relu'))\n",
        "model.add(Dropout(0.2))\n",
        "model.add(Dense(10,activation='softmax'))\n",
        "model.summary()"
      ],
      "metadata": {
        "colab": {
          "base_uri": "https://localhost:8080/"
        },
        "id": "BFaXiPbMlsEW",
        "outputId": "5e06510e-183e-4143-e10e-0f56fc55d6c6"
      },
      "execution_count": null,
      "outputs": [
        {
          "output_type": "stream",
          "name": "stdout",
          "text": [
            "Model: \"sequential_4\"\n",
            "_________________________________________________________________\n",
            " Layer (type)                Output Shape              Param #   \n",
            "=================================================================\n",
            " dense_12 (Dense)            (None, 512)               1573376   \n",
            "                                                                 \n",
            " dropout_8 (Dropout)         (None, 512)               0         \n",
            "                                                                 \n",
            " dense_13 (Dense)            (None, 512)               262656    \n",
            "                                                                 \n",
            " dropout_9 (Dropout)         (None, 512)               0         \n",
            "                                                                 \n",
            " dense_14 (Dense)            (None, 10)                5130      \n",
            "                                                                 \n",
            "=================================================================\n",
            "Total params: 1,841,162\n",
            "Trainable params: 1,841,162\n",
            "Non-trainable params: 0\n",
            "_________________________________________________________________\n"
          ]
        }
      ]
    },
    {
      "cell_type": "code",
      "source": [
        "#chạy model với số lần học là 500 và độ kiên nhẫn là 70\n",
        "model.compile(loss='categorical_crossentropy',optimizer=RMSprop(), metrics=['accuracy'])\n",
        "model.compile(loss='categorical_crossentropy',optimizer=RMSprop(), metrics=['accuracy'])\n",
        "from keras.callbacks import EarlyStopping\n",
        "history = model.fit(x_train,y_train,batch_size=128,epochs=500,verbose=1,\n",
        "                    validation_split=0.2,callbacks=[EarlyStopping(monitor='val_loss',patience=70)])"
      ],
      "metadata": {
        "colab": {
          "base_uri": "https://localhost:8080/"
        },
        "id": "ZQmcbpQ6l6Uo",
        "outputId": "f9176f99-2c7c-4171-9db6-e3b1962901c9"
      },
      "execution_count": null,
      "outputs": [
        {
          "output_type": "stream",
          "name": "stdout",
          "text": [
            "Epoch 1/500\n",
            "313/313 [==============================] - 14s 42ms/step - loss: 2.1970 - accuracy: 0.2384 - val_loss: 1.8939 - val_accuracy: 0.3070\n",
            "Epoch 2/500\n",
            "313/313 [==============================] - 12s 39ms/step - loss: 1.8911 - accuracy: 0.3155 - val_loss: 1.8289 - val_accuracy: 0.3340\n",
            "Epoch 3/500\n",
            "313/313 [==============================] - 12s 39ms/step - loss: 1.8117 - accuracy: 0.3469 - val_loss: 1.7504 - val_accuracy: 0.3703\n",
            "Epoch 4/500\n",
            "313/313 [==============================] - 12s 39ms/step - loss: 1.7571 - accuracy: 0.3695 - val_loss: 1.7344 - val_accuracy: 0.3832\n",
            "Epoch 5/500\n",
            "313/313 [==============================] - 12s 39ms/step - loss: 1.7114 - accuracy: 0.3851 - val_loss: 1.6855 - val_accuracy: 0.3952\n",
            "Epoch 6/500\n",
            "313/313 [==============================] - 12s 39ms/step - loss: 1.6850 - accuracy: 0.3949 - val_loss: 1.6801 - val_accuracy: 0.3962\n",
            "Epoch 7/500\n",
            "313/313 [==============================] - 12s 39ms/step - loss: 1.6696 - accuracy: 0.4030 - val_loss: 1.6341 - val_accuracy: 0.4176\n",
            "Epoch 8/500\n",
            "313/313 [==============================] - 12s 39ms/step - loss: 1.6437 - accuracy: 0.4148 - val_loss: 1.6206 - val_accuracy: 0.4274\n",
            "Epoch 9/500\n",
            "313/313 [==============================] - 12s 39ms/step - loss: 1.6261 - accuracy: 0.4152 - val_loss: 1.6227 - val_accuracy: 0.4260\n",
            "Epoch 10/500\n",
            "313/313 [==============================] - 12s 39ms/step - loss: 1.6100 - accuracy: 0.4237 - val_loss: 1.5705 - val_accuracy: 0.4506\n",
            "Epoch 11/500\n",
            "313/313 [==============================] - 12s 38ms/step - loss: 1.5939 - accuracy: 0.4283 - val_loss: 1.6076 - val_accuracy: 0.4327\n",
            "Epoch 12/500\n",
            "313/313 [==============================] - 12s 39ms/step - loss: 1.5831 - accuracy: 0.4336 - val_loss: 1.5982 - val_accuracy: 0.4363\n",
            "Epoch 13/500\n",
            "313/313 [==============================] - 12s 39ms/step - loss: 1.5726 - accuracy: 0.4360 - val_loss: 1.5852 - val_accuracy: 0.4417\n",
            "Epoch 14/500\n",
            "313/313 [==============================] - 12s 39ms/step - loss: 1.5614 - accuracy: 0.4430 - val_loss: 1.6137 - val_accuracy: 0.4388\n",
            "Epoch 15/500\n",
            "313/313 [==============================] - 12s 39ms/step - loss: 1.5570 - accuracy: 0.4448 - val_loss: 1.5885 - val_accuracy: 0.4347\n",
            "Epoch 16/500\n",
            "313/313 [==============================] - 12s 39ms/step - loss: 1.5466 - accuracy: 0.4451 - val_loss: 1.5984 - val_accuracy: 0.4260\n",
            "Epoch 17/500\n",
            "313/313 [==============================] - 12s 39ms/step - loss: 1.5360 - accuracy: 0.4527 - val_loss: 1.5385 - val_accuracy: 0.4629\n",
            "Epoch 18/500\n",
            "313/313 [==============================] - 12s 39ms/step - loss: 1.5298 - accuracy: 0.4530 - val_loss: 1.5559 - val_accuracy: 0.4575\n",
            "Epoch 19/500\n",
            "313/313 [==============================] - 12s 39ms/step - loss: 1.5277 - accuracy: 0.4559 - val_loss: 1.5442 - val_accuracy: 0.4657\n",
            "Epoch 20/500\n",
            "313/313 [==============================] - 12s 39ms/step - loss: 1.5183 - accuracy: 0.4578 - val_loss: 1.5296 - val_accuracy: 0.4667\n",
            "Epoch 21/500\n",
            "313/313 [==============================] - 12s 39ms/step - loss: 1.5150 - accuracy: 0.4593 - val_loss: 1.5278 - val_accuracy: 0.4635\n",
            "Epoch 22/500\n",
            "313/313 [==============================] - 12s 39ms/step - loss: 1.5021 - accuracy: 0.4622 - val_loss: 1.5390 - val_accuracy: 0.4579\n",
            "Epoch 23/500\n",
            "313/313 [==============================] - 12s 39ms/step - loss: 1.5018 - accuracy: 0.4637 - val_loss: 1.5319 - val_accuracy: 0.4562\n",
            "Epoch 24/500\n",
            "313/313 [==============================] - 12s 39ms/step - loss: 1.4889 - accuracy: 0.4660 - val_loss: 1.5352 - val_accuracy: 0.4534\n",
            "Epoch 25/500\n",
            "313/313 [==============================] - 12s 39ms/step - loss: 1.4892 - accuracy: 0.4703 - val_loss: 1.5740 - val_accuracy: 0.4425\n",
            "Epoch 26/500\n",
            "313/313 [==============================] - 12s 39ms/step - loss: 1.4892 - accuracy: 0.4681 - val_loss: 1.5272 - val_accuracy: 0.4605\n",
            "Epoch 27/500\n",
            "313/313 [==============================] - 12s 39ms/step - loss: 1.4757 - accuracy: 0.4752 - val_loss: 1.5433 - val_accuracy: 0.4530\n",
            "Epoch 28/500\n",
            "313/313 [==============================] - 12s 39ms/step - loss: 1.4729 - accuracy: 0.4732 - val_loss: 1.5486 - val_accuracy: 0.4586\n",
            "Epoch 29/500\n",
            "313/313 [==============================] - 12s 39ms/step - loss: 1.4646 - accuracy: 0.4779 - val_loss: 1.5221 - val_accuracy: 0.4673\n",
            "Epoch 30/500\n",
            "313/313 [==============================] - 12s 39ms/step - loss: 1.4718 - accuracy: 0.4744 - val_loss: 1.4923 - val_accuracy: 0.4785\n",
            "Epoch 31/500\n",
            "313/313 [==============================] - 12s 39ms/step - loss: 1.4601 - accuracy: 0.4832 - val_loss: 1.5155 - val_accuracy: 0.4632\n",
            "Epoch 32/500\n",
            "313/313 [==============================] - 12s 39ms/step - loss: 1.4534 - accuracy: 0.4827 - val_loss: 1.5156 - val_accuracy: 0.4740\n",
            "Epoch 33/500\n",
            "313/313 [==============================] - 12s 39ms/step - loss: 1.4529 - accuracy: 0.4829 - val_loss: 1.5320 - val_accuracy: 0.4611\n",
            "Epoch 34/500\n",
            "313/313 [==============================] - 12s 39ms/step - loss: 1.4506 - accuracy: 0.4821 - val_loss: 1.5969 - val_accuracy: 0.4475\n",
            "Epoch 35/500\n",
            "313/313 [==============================] - 12s 39ms/step - loss: 1.4503 - accuracy: 0.4862 - val_loss: 1.5474 - val_accuracy: 0.4534\n",
            "Epoch 36/500\n",
            "313/313 [==============================] - 12s 39ms/step - loss: 1.4437 - accuracy: 0.4875 - val_loss: 1.6785 - val_accuracy: 0.4221\n",
            "Epoch 37/500\n",
            "313/313 [==============================] - 12s 39ms/step - loss: 1.4427 - accuracy: 0.4843 - val_loss: 1.4937 - val_accuracy: 0.4821\n",
            "Epoch 38/500\n",
            "313/313 [==============================] - 12s 39ms/step - loss: 1.4363 - accuracy: 0.4873 - val_loss: 1.5099 - val_accuracy: 0.4761\n",
            "Epoch 39/500\n",
            "313/313 [==============================] - 12s 39ms/step - loss: 1.4346 - accuracy: 0.4861 - val_loss: 1.5053 - val_accuracy: 0.4721\n",
            "Epoch 40/500\n",
            "313/313 [==============================] - 12s 39ms/step - loss: 1.4252 - accuracy: 0.4906 - val_loss: 1.4669 - val_accuracy: 0.4895\n",
            "Epoch 41/500\n",
            "313/313 [==============================] - 12s 39ms/step - loss: 1.4310 - accuracy: 0.4920 - val_loss: 1.4972 - val_accuracy: 0.4702\n",
            "Epoch 42/500\n",
            "313/313 [==============================] - 12s 39ms/step - loss: 1.4264 - accuracy: 0.4973 - val_loss: 1.5259 - val_accuracy: 0.4754\n",
            "Epoch 43/500\n",
            "313/313 [==============================] - 12s 39ms/step - loss: 1.4317 - accuracy: 0.4924 - val_loss: 1.5256 - val_accuracy: 0.4668\n",
            "Epoch 44/500\n",
            "313/313 [==============================] - 12s 39ms/step - loss: 1.4199 - accuracy: 0.4932 - val_loss: 1.6155 - val_accuracy: 0.4383\n",
            "Epoch 45/500\n",
            "313/313 [==============================] - 12s 39ms/step - loss: 1.4257 - accuracy: 0.4918 - val_loss: 1.5573 - val_accuracy: 0.4573\n",
            "Epoch 46/500\n",
            "313/313 [==============================] - 12s 39ms/step - loss: 1.4148 - accuracy: 0.4969 - val_loss: 1.5309 - val_accuracy: 0.4769\n",
            "Epoch 47/500\n",
            "313/313 [==============================] - 12s 39ms/step - loss: 1.4101 - accuracy: 0.5004 - val_loss: 1.5511 - val_accuracy: 0.4638\n",
            "Epoch 48/500\n",
            "313/313 [==============================] - 12s 39ms/step - loss: 1.4155 - accuracy: 0.4994 - val_loss: 1.4579 - val_accuracy: 0.4900\n",
            "Epoch 49/500\n",
            "313/313 [==============================] - 12s 39ms/step - loss: 1.4137 - accuracy: 0.4996 - val_loss: 1.5083 - val_accuracy: 0.4785\n",
            "Epoch 50/500\n",
            "313/313 [==============================] - 12s 39ms/step - loss: 1.4116 - accuracy: 0.5012 - val_loss: 1.5624 - val_accuracy: 0.4508\n",
            "Epoch 51/500\n",
            "313/313 [==============================] - 12s 39ms/step - loss: 1.4093 - accuracy: 0.5002 - val_loss: 1.4869 - val_accuracy: 0.4952\n",
            "Epoch 52/500\n",
            "313/313 [==============================] - 12s 39ms/step - loss: 1.4057 - accuracy: 0.5013 - val_loss: 1.5442 - val_accuracy: 0.4640\n",
            "Epoch 53/500\n",
            "313/313 [==============================] - 12s 39ms/step - loss: 1.3983 - accuracy: 0.5044 - val_loss: 1.4973 - val_accuracy: 0.4853\n",
            "Epoch 54/500\n",
            "313/313 [==============================] - 12s 39ms/step - loss: 1.4015 - accuracy: 0.5040 - val_loss: 1.5417 - val_accuracy: 0.4593\n",
            "Epoch 55/500\n",
            "313/313 [==============================] - 12s 39ms/step - loss: 1.3971 - accuracy: 0.5061 - val_loss: 1.5225 - val_accuracy: 0.4693\n",
            "Epoch 56/500\n",
            "313/313 [==============================] - 12s 39ms/step - loss: 1.3998 - accuracy: 0.5039 - val_loss: 1.5179 - val_accuracy: 0.4691\n",
            "Epoch 57/500\n",
            "313/313 [==============================] - 12s 39ms/step - loss: 1.3949 - accuracy: 0.5083 - val_loss: 1.6675 - val_accuracy: 0.4443\n",
            "Epoch 58/500\n",
            "313/313 [==============================] - 12s 39ms/step - loss: 1.3999 - accuracy: 0.5046 - val_loss: 1.5610 - val_accuracy: 0.4610\n",
            "Epoch 59/500\n",
            "313/313 [==============================] - 12s 39ms/step - loss: 1.3996 - accuracy: 0.5080 - val_loss: 1.4506 - val_accuracy: 0.4920\n",
            "Epoch 60/500\n",
            "313/313 [==============================] - 12s 39ms/step - loss: 1.3885 - accuracy: 0.5097 - val_loss: 1.5391 - val_accuracy: 0.4725\n",
            "Epoch 61/500\n",
            "313/313 [==============================] - 12s 39ms/step - loss: 1.3893 - accuracy: 0.5066 - val_loss: 1.5593 - val_accuracy: 0.4564\n",
            "Epoch 62/500\n",
            "313/313 [==============================] - 12s 39ms/step - loss: 1.3837 - accuracy: 0.5103 - val_loss: 1.5850 - val_accuracy: 0.4589\n",
            "Epoch 63/500\n",
            "313/313 [==============================] - 12s 39ms/step - loss: 1.3845 - accuracy: 0.5092 - val_loss: 1.4776 - val_accuracy: 0.4917\n",
            "Epoch 64/500\n",
            "313/313 [==============================] - 12s 39ms/step - loss: 1.3831 - accuracy: 0.5100 - val_loss: 1.4840 - val_accuracy: 0.4832\n",
            "Epoch 65/500\n",
            "313/313 [==============================] - 12s 39ms/step - loss: 1.3793 - accuracy: 0.5114 - val_loss: 1.5124 - val_accuracy: 0.4808\n",
            "Epoch 66/500\n",
            "313/313 [==============================] - 12s 39ms/step - loss: 1.3815 - accuracy: 0.5099 - val_loss: 1.5373 - val_accuracy: 0.4747\n",
            "Epoch 67/500\n",
            "313/313 [==============================] - 12s 39ms/step - loss: 1.3711 - accuracy: 0.5160 - val_loss: 1.5396 - val_accuracy: 0.4770\n",
            "Epoch 68/500\n",
            "313/313 [==============================] - 12s 39ms/step - loss: 1.3792 - accuracy: 0.5110 - val_loss: 1.5011 - val_accuracy: 0.4898\n",
            "Epoch 69/500\n",
            "313/313 [==============================] - 12s 39ms/step - loss: 1.3772 - accuracy: 0.5159 - val_loss: 1.5355 - val_accuracy: 0.4779\n",
            "Epoch 70/500\n",
            "313/313 [==============================] - 12s 39ms/step - loss: 1.3816 - accuracy: 0.5088 - val_loss: 1.5380 - val_accuracy: 0.4874\n",
            "Epoch 71/500\n",
            "313/313 [==============================] - 12s 39ms/step - loss: 1.3745 - accuracy: 0.5146 - val_loss: 1.5328 - val_accuracy: 0.4760\n",
            "Epoch 72/500\n",
            "313/313 [==============================] - 12s 39ms/step - loss: 1.3706 - accuracy: 0.5152 - val_loss: 1.5556 - val_accuracy: 0.4672\n",
            "Epoch 73/500\n",
            "313/313 [==============================] - 12s 39ms/step - loss: 1.3726 - accuracy: 0.5149 - val_loss: 1.6153 - val_accuracy: 0.4515\n",
            "Epoch 74/500\n",
            "313/313 [==============================] - 12s 39ms/step - loss: 1.3671 - accuracy: 0.5158 - val_loss: 1.6089 - val_accuracy: 0.4631\n",
            "Epoch 75/500\n",
            "313/313 [==============================] - 12s 39ms/step - loss: 1.3668 - accuracy: 0.5170 - val_loss: 1.4925 - val_accuracy: 0.4793\n",
            "Epoch 76/500\n",
            "313/313 [==============================] - 12s 39ms/step - loss: 1.3686 - accuracy: 0.5160 - val_loss: 1.5005 - val_accuracy: 0.4764\n",
            "Epoch 77/500\n",
            "313/313 [==============================] - 12s 39ms/step - loss: 1.3753 - accuracy: 0.5123 - val_loss: 1.5355 - val_accuracy: 0.4722\n",
            "Epoch 78/500\n",
            "313/313 [==============================] - 12s 39ms/step - loss: 1.3729 - accuracy: 0.5189 - val_loss: 1.5118 - val_accuracy: 0.4882\n",
            "Epoch 79/500\n",
            "313/313 [==============================] - 12s 39ms/step - loss: 1.3694 - accuracy: 0.5174 - val_loss: 1.5273 - val_accuracy: 0.4893\n",
            "Epoch 80/500\n",
            "313/313 [==============================] - 12s 39ms/step - loss: 1.3635 - accuracy: 0.5187 - val_loss: 1.5324 - val_accuracy: 0.4776\n",
            "Epoch 81/500\n",
            "313/313 [==============================] - 12s 39ms/step - loss: 1.3657 - accuracy: 0.5161 - val_loss: 1.6280 - val_accuracy: 0.4389\n",
            "Epoch 82/500\n",
            "313/313 [==============================] - 12s 38ms/step - loss: 1.3663 - accuracy: 0.5157 - val_loss: 1.6069 - val_accuracy: 0.4683\n",
            "Epoch 83/500\n",
            "313/313 [==============================] - 12s 39ms/step - loss: 1.3605 - accuracy: 0.5183 - val_loss: 1.5175 - val_accuracy: 0.4737\n",
            "Epoch 84/500\n",
            "313/313 [==============================] - 12s 39ms/step - loss: 1.3631 - accuracy: 0.5184 - val_loss: 1.5808 - val_accuracy: 0.4784\n",
            "Epoch 85/500\n",
            "313/313 [==============================] - 12s 39ms/step - loss: 1.3583 - accuracy: 0.5193 - val_loss: 1.6341 - val_accuracy: 0.4326\n",
            "Epoch 86/500\n",
            "313/313 [==============================] - 12s 39ms/step - loss: 1.3652 - accuracy: 0.5170 - val_loss: 1.5788 - val_accuracy: 0.4656\n",
            "Epoch 87/500\n",
            "313/313 [==============================] - 12s 39ms/step - loss: 1.3567 - accuracy: 0.5196 - val_loss: 1.5822 - val_accuracy: 0.4648\n",
            "Epoch 88/500\n",
            "313/313 [==============================] - 12s 39ms/step - loss: 1.3637 - accuracy: 0.5159 - val_loss: 1.6108 - val_accuracy: 0.4536\n",
            "Epoch 89/500\n",
            "313/313 [==============================] - 12s 39ms/step - loss: 1.3537 - accuracy: 0.5221 - val_loss: 1.6063 - val_accuracy: 0.4515\n",
            "Epoch 90/500\n",
            "313/313 [==============================] - 12s 39ms/step - loss: 1.3558 - accuracy: 0.5222 - val_loss: 1.5348 - val_accuracy: 0.4847\n",
            "Epoch 91/500\n",
            "313/313 [==============================] - 12s 39ms/step - loss: 1.3514 - accuracy: 0.5222 - val_loss: 1.6253 - val_accuracy: 0.4420\n",
            "Epoch 92/500\n",
            "313/313 [==============================] - 12s 39ms/step - loss: 1.3501 - accuracy: 0.5239 - val_loss: 1.5982 - val_accuracy: 0.4715\n",
            "Epoch 93/500\n",
            "313/313 [==============================] - 12s 39ms/step - loss: 1.3565 - accuracy: 0.5208 - val_loss: 1.5753 - val_accuracy: 0.4829\n",
            "Epoch 94/500\n",
            "313/313 [==============================] - 12s 39ms/step - loss: 1.3609 - accuracy: 0.5227 - val_loss: 1.5309 - val_accuracy: 0.4767\n",
            "Epoch 95/500\n",
            "313/313 [==============================] - 12s 39ms/step - loss: 1.3596 - accuracy: 0.5197 - val_loss: 1.5748 - val_accuracy: 0.4605\n",
            "Epoch 96/500\n",
            "313/313 [==============================] - 12s 39ms/step - loss: 1.3506 - accuracy: 0.5224 - val_loss: 1.5861 - val_accuracy: 0.4566\n",
            "Epoch 97/500\n",
            "313/313 [==============================] - 12s 39ms/step - loss: 1.3609 - accuracy: 0.5204 - val_loss: 1.5739 - val_accuracy: 0.4714\n",
            "Epoch 98/500\n",
            "313/313 [==============================] - 12s 39ms/step - loss: 1.3488 - accuracy: 0.5253 - val_loss: 1.5664 - val_accuracy: 0.4813\n",
            "Epoch 99/500\n",
            "313/313 [==============================] - 12s 39ms/step - loss: 1.3481 - accuracy: 0.5229 - val_loss: 1.5293 - val_accuracy: 0.4838\n",
            "Epoch 100/500\n",
            "313/313 [==============================] - 12s 39ms/step - loss: 1.3428 - accuracy: 0.5256 - val_loss: 1.5990 - val_accuracy: 0.4632\n",
            "Epoch 101/500\n",
            "313/313 [==============================] - 12s 39ms/step - loss: 1.3531 - accuracy: 0.5240 - val_loss: 1.6495 - val_accuracy: 0.4633\n",
            "Epoch 102/500\n",
            "313/313 [==============================] - 12s 39ms/step - loss: 1.3490 - accuracy: 0.5252 - val_loss: 1.5659 - val_accuracy: 0.4793\n",
            "Epoch 103/500\n",
            "313/313 [==============================] - 12s 39ms/step - loss: 1.3461 - accuracy: 0.5268 - val_loss: 1.5606 - val_accuracy: 0.4762\n",
            "Epoch 104/500\n",
            "313/313 [==============================] - 12s 39ms/step - loss: 1.3467 - accuracy: 0.5255 - val_loss: 1.5837 - val_accuracy: 0.4652\n",
            "Epoch 105/500\n",
            "313/313 [==============================] - 12s 39ms/step - loss: 1.3475 - accuracy: 0.5275 - val_loss: 1.6000 - val_accuracy: 0.4575\n",
            "Epoch 106/500\n",
            "313/313 [==============================] - 12s 39ms/step - loss: 1.3446 - accuracy: 0.5271 - val_loss: 1.6748 - val_accuracy: 0.4456\n",
            "Epoch 107/500\n",
            "313/313 [==============================] - 12s 39ms/step - loss: 1.3502 - accuracy: 0.5246 - val_loss: 1.5375 - val_accuracy: 0.4836\n",
            "Epoch 108/500\n",
            "313/313 [==============================] - 12s 39ms/step - loss: 1.3424 - accuracy: 0.5268 - val_loss: 1.7643 - val_accuracy: 0.4756\n",
            "Epoch 109/500\n",
            "313/313 [==============================] - 12s 39ms/step - loss: 1.3374 - accuracy: 0.5253 - val_loss: 1.5217 - val_accuracy: 0.4842\n",
            "Epoch 110/500\n",
            "313/313 [==============================] - 12s 39ms/step - loss: 1.3516 - accuracy: 0.5249 - val_loss: 1.6212 - val_accuracy: 0.4578\n",
            "Epoch 111/500\n",
            "313/313 [==============================] - 12s 39ms/step - loss: 1.3428 - accuracy: 0.5266 - val_loss: 1.5535 - val_accuracy: 0.4703\n",
            "Epoch 112/500\n",
            "313/313 [==============================] - 12s 39ms/step - loss: 1.3378 - accuracy: 0.5285 - val_loss: 1.5617 - val_accuracy: 0.4722\n",
            "Epoch 113/500\n",
            "313/313 [==============================] - 12s 39ms/step - loss: 1.3475 - accuracy: 0.5268 - val_loss: 1.5165 - val_accuracy: 0.4904\n",
            "Epoch 114/500\n",
            "313/313 [==============================] - 12s 39ms/step - loss: 1.3406 - accuracy: 0.5257 - val_loss: 1.6552 - val_accuracy: 0.4610\n",
            "Epoch 115/500\n",
            "313/313 [==============================] - 12s 39ms/step - loss: 1.3311 - accuracy: 0.5300 - val_loss: 1.6178 - val_accuracy: 0.4612\n",
            "Epoch 116/500\n",
            "313/313 [==============================] - 12s 39ms/step - loss: 1.3463 - accuracy: 0.5258 - val_loss: 1.5680 - val_accuracy: 0.4875\n",
            "Epoch 117/500\n",
            "313/313 [==============================] - 12s 40ms/step - loss: 1.3346 - accuracy: 0.5314 - val_loss: 1.5408 - val_accuracy: 0.4815\n",
            "Epoch 118/500\n",
            "313/313 [==============================] - 12s 40ms/step - loss: 1.3445 - accuracy: 0.5286 - val_loss: 1.5378 - val_accuracy: 0.4762\n",
            "Epoch 119/500\n",
            "313/313 [==============================] - 12s 40ms/step - loss: 1.3445 - accuracy: 0.5280 - val_loss: 1.5483 - val_accuracy: 0.4767\n",
            "Epoch 120/500\n",
            "313/313 [==============================] - 12s 39ms/step - loss: 1.3326 - accuracy: 0.5294 - val_loss: 1.6748 - val_accuracy: 0.4576\n",
            "Epoch 121/500\n",
            "313/313 [==============================] - 12s 40ms/step - loss: 1.3392 - accuracy: 0.5325 - val_loss: 1.5918 - val_accuracy: 0.4726\n",
            "Epoch 122/500\n",
            "313/313 [==============================] - 12s 39ms/step - loss: 1.3449 - accuracy: 0.5288 - val_loss: 1.5705 - val_accuracy: 0.4796\n",
            "Epoch 123/500\n",
            "313/313 [==============================] - 12s 39ms/step - loss: 1.3337 - accuracy: 0.5327 - val_loss: 1.5790 - val_accuracy: 0.4684\n",
            "Epoch 124/500\n",
            "313/313 [==============================] - 12s 39ms/step - loss: 1.3340 - accuracy: 0.5318 - val_loss: 1.5510 - val_accuracy: 0.4728\n",
            "Epoch 125/500\n",
            "313/313 [==============================] - 12s 39ms/step - loss: 1.3310 - accuracy: 0.5322 - val_loss: 1.5875 - val_accuracy: 0.4927\n",
            "Epoch 126/500\n",
            "313/313 [==============================] - 12s 39ms/step - loss: 1.3277 - accuracy: 0.5328 - val_loss: 1.6111 - val_accuracy: 0.4709\n",
            "Epoch 127/500\n",
            "313/313 [==============================] - 12s 39ms/step - loss: 1.3413 - accuracy: 0.5284 - val_loss: 1.6307 - val_accuracy: 0.4824\n",
            "Epoch 128/500\n",
            "313/313 [==============================] - 12s 39ms/step - loss: 1.3304 - accuracy: 0.5295 - val_loss: 1.6037 - val_accuracy: 0.4714\n",
            "Epoch 129/500\n",
            "313/313 [==============================] - 12s 39ms/step - loss: 1.3244 - accuracy: 0.5334 - val_loss: 1.5653 - val_accuracy: 0.4719\n"
          ]
        }
      ]
    },
    {
      "cell_type": "code",
      "source": [
        "#đánh giá chất lượng của mô hình và vẽ lại\n",
        "score = model.evaluate(x_test,y_test,verbose=0)\n",
        "print('Sai số kiểm tra là: ',score[0])\n",
        "print('Độ chính xác kiểm tra là: ',score[1])\n",
        "#vẽ đồ thị\n",
        "plt.plot(history.history['accuracy'])\n",
        "plt.plot(history.history['val_accuracy'])\n",
        "plt.title('model accuracy')\n",
        "plt.ylabel('accuracy')\n",
        "plt.xlabel('epochs')\n",
        "plt.legend(['train','Validation'])\n",
        "plt.show()"
      ],
      "metadata": {
        "colab": {
          "base_uri": "https://localhost:8080/",
          "height": 330
        },
        "id": "wGzx7eor27BP",
        "outputId": "fcd9ff5e-dc63-4179-bb81-c54321cea90c"
      },
      "execution_count": null,
      "outputs": [
        {
          "output_type": "stream",
          "name": "stdout",
          "text": [
            "Sai số kiểm tra là:  1.565137267112732\n",
            "Độ chính xác kiểm tra là:  0.474700003862381\n"
          ]
        },
        {
          "output_type": "display_data",
          "data": {
            "text/plain": [
              "<Figure size 432x288 with 1 Axes>"
            ],
            "image/png": "[encoded data removed]"
          },
          "metadata": {
            "needs_background": "light"
          }
        }
      ]
    }
  ]
}