{
  "nbformat": 4,
  "nbformat_minor": 0,
  "metadata": {
    "colab": {
      "name": "BT1-88.ipynb",
      "provenance": [],
      "authorship_tag": "ABX9TyNHN55GuKhX4Watl4fdCwTf",
      "include_colab_link": true
    },
    "kernelspec": {
      "name": "python3",
      "display_name": "Python 3"
    },
    "language_info": {
      "name": "python"
    }
  },
  "cells": [
    {
      "cell_type": "markdown",
      "metadata": {
        "id": "view-in-github",
        "colab_type": "text"
      },
      "source": [
        "<a href=\"https://colab.research.google.com/github/McATung/AI/blob/main/BT1_88.ipynb\" target=\"_parent\"><img src=\"https://colab.research.google.com/assets/colab-badge.svg\" alt=\"Open In Colab\"/></a>"
      ]
    },
    {
      "cell_type": "code",
      "execution_count": null,
      "metadata": {
        "id": "yZypCzOTc46k"
      },
      "outputs": [],
      "source": [
        "import numpy as np #thư viện xử lý ma trận\n",
        "from keras.utils import np_utils # thư viện xử lý chuyển class\n",
        "from keras.datasets import fashion_mnist # gọi tập dataset thời trang\n",
        "from keras.models import Sequential # hàm chạy mô hình\n",
        "from keras.layers import Dense, Dropout # tạo mạng nơ ron\n",
        "from tensorflow.keras.optimizers import RMSprop \n",
        "import matplotlib.pyplot as plt  # thư viện dùng để vẽ"
      ]
    },
    {
      "cell_type": "code",
      "source": [
        "(x_train, y_train),(x_test,y_test) = fashion_mnist.load_data()"
      ],
      "metadata": {
        "id": "XzJ3jXN8c7HT"
      },
      "execution_count": null,
      "outputs": []
    },
    {
      "cell_type": "code",
      "source": [
        "print('Kích thước x_train: ', x_train.shape)\n",
        "print('Kích thước y_train: ', y_train.shape)\n",
        "print('Kích thước x_test: ', x_test.shape)\n",
        "print('Kích thước y_test: ', y_test.shape)"
      ],
      "metadata": {
        "colab": {
          "base_uri": "https://localhost:8080/"
        },
        "id": "l4a11XnddRUo",
        "outputId": "4f11273d-fc8c-41ec-9a36-25d729c27f89"
      },
      "execution_count": null,
      "outputs": [
        {
          "output_type": "stream",
          "name": "stdout",
          "text": [
            "Kích thước x_train:  (60000, 28, 28)\n",
            "Kích thước y_train:  (60000,)\n",
            "Kích thước x_test:  (10000, 28, 28)\n",
            "Kích thước y_test:  (10000,)\n"
          ]
        }
      ]
    },
    {
      "cell_type": "code",
      "source": [
        "#chuyển chiều của x từ 3 chiều về 2 chiều\n",
        "x_train = x_train.reshape(60000,784)\n",
        "x_test = x_test.reshape(10000,784)\n",
        "# ép kiểu\n",
        "x_train = x_train.astype('float32')\n",
        "x_test = x_test.astype('float32')\n",
        "#chuẩn hóa dữ liệu\n",
        "x_train /=255\n",
        "x_test /=255\n",
        "#chuyển y từ 1 class thành 10 class\n",
        "y_train = np_utils.to_categorical(y_train,10)\n",
        "y_test = np_utils.to_categorical(y_test,10)"
      ],
      "metadata": {
        "id": "i4RiBkR6dRZ-"
      },
      "execution_count": null,
      "outputs": []
    },
    {
      "cell_type": "code",
      "source": [
        "#tạo mạng nơ-ron\n",
        "model = Sequential()\n",
        "model.add(Dense(512,activation='relu',input_shape=(784,)))\n",
        "model.add(Dropout(0.2))\n",
        "model.add(Dense(512,activation='relu'))\n",
        "model.add(Dropout(0.2))\n",
        "model.add(Dense(10,activation='softmax'))\n",
        "model.summary()"
      ],
      "metadata": {
        "colab": {
          "base_uri": "https://localhost:8080/"
        },
        "id": "L5AbtMysdRc2",
        "outputId": "60e102f6-e36d-4b22-b3f1-12ed4d2ec0ea"
      },
      "execution_count": null,
      "outputs": [
        {
          "output_type": "stream",
          "name": "stdout",
          "text": [
            "Model: \"sequential_1\"\n",
            "_________________________________________________________________\n",
            " Layer (type)                Output Shape              Param #   \n",
            "=================================================================\n",
            " dense_3 (Dense)             (None, 512)               401920    \n",
            "                                                                 \n",
            " dropout_2 (Dropout)         (None, 512)               0         \n",
            "                                                                 \n",
            " dense_4 (Dense)             (None, 512)               262656    \n",
            "                                                                 \n",
            " dropout_3 (Dropout)         (None, 512)               0         \n",
            "                                                                 \n",
            " dense_5 (Dense)             (None, 10)                5130      \n",
            "                                                                 \n",
            "=================================================================\n",
            "Total params: 669,706\n",
            "Trainable params: 669,706\n",
            "Non-trainable params: 0\n",
            "_________________________________________________________________\n"
          ]
        }
      ]
    },
    {
      "cell_type": "code",
      "source": [
        "#chạy model với số lần học là 500 và độ kiên nhẫn là 75\n",
        "model.compile(loss='categorical_crossentropy',optimizer=RMSprop(), metrics=['accuracy'])\n",
        "model.compile(loss='categorical_crossentropy',optimizer=RMSprop(), metrics=['accuracy'])\n",
        "from keras.callbacks import EarlyStopping\n",
        "history = model.fit(x_train,y_train,batch_size=128,epochs=500,verbose=1,\n",
        "                    validation_split=0.2,callbacks=[EarlyStopping(monitor='val_loss',patience=75)])"
      ],
      "metadata": {
        "colab": {
          "base_uri": "https://localhost:8080/"
        },
        "id": "LMg7c2ycdhnR",
        "outputId": "e1a76501-c958-4b7b-93ff-108f8d44c350"
      },
      "execution_count": null,
      "outputs": [
        {
          "output_type": "stream",
          "name": "stdout",
          "text": [
            "Epoch 1/500\n",
            "375/375 [==============================] - 8s 19ms/step - loss: 0.5925 - accuracy: 0.7837 - val_loss: 0.4392 - val_accuracy: 0.8219\n",
            "Epoch 2/500\n",
            "375/375 [==============================] - 7s 18ms/step - loss: 0.4162 - accuracy: 0.8478 - val_loss: 0.3969 - val_accuracy: 0.8563\n",
            "Epoch 3/500\n",
            "375/375 [==============================] - 7s 18ms/step - loss: 0.3766 - accuracy: 0.8607 - val_loss: 0.3558 - val_accuracy: 0.8708\n",
            "Epoch 4/500\n",
            "375/375 [==============================] - 7s 18ms/step - loss: 0.3541 - accuracy: 0.8695 - val_loss: 0.3702 - val_accuracy: 0.8716\n",
            "Epoch 5/500\n",
            "375/375 [==============================] - 7s 18ms/step - loss: 0.3392 - accuracy: 0.8767 - val_loss: 0.3688 - val_accuracy: 0.8669\n",
            "Epoch 6/500\n",
            "375/375 [==============================] - 7s 18ms/step - loss: 0.3272 - accuracy: 0.8820 - val_loss: 0.3338 - val_accuracy: 0.8832\n",
            "Epoch 7/500\n",
            "375/375 [==============================] - 7s 18ms/step - loss: 0.3193 - accuracy: 0.8836 - val_loss: 0.3528 - val_accuracy: 0.8802\n",
            "Epoch 8/500\n",
            "375/375 [==============================] - 7s 18ms/step - loss: 0.3108 - accuracy: 0.8854 - val_loss: 0.3485 - val_accuracy: 0.8780\n",
            "Epoch 9/500\n",
            "375/375 [==============================] - 7s 18ms/step - loss: 0.3066 - accuracy: 0.8901 - val_loss: 0.3596 - val_accuracy: 0.8777\n",
            "Epoch 10/500\n",
            "375/375 [==============================] - 7s 18ms/step - loss: 0.2997 - accuracy: 0.8932 - val_loss: 0.3355 - val_accuracy: 0.8868\n",
            "Epoch 11/500\n",
            "375/375 [==============================] - 7s 18ms/step - loss: 0.2933 - accuracy: 0.8952 - val_loss: 0.3555 - val_accuracy: 0.8827\n",
            "Epoch 12/500\n",
            "375/375 [==============================] - 7s 18ms/step - loss: 0.2904 - accuracy: 0.8958 - val_loss: 0.3473 - val_accuracy: 0.8926\n",
            "Epoch 13/500\n",
            "375/375 [==============================] - 7s 18ms/step - loss: 0.2862 - accuracy: 0.8978 - val_loss: 0.3513 - val_accuracy: 0.8866\n",
            "Epoch 14/500\n",
            "375/375 [==============================] - 7s 18ms/step - loss: 0.2806 - accuracy: 0.8979 - val_loss: 0.3812 - val_accuracy: 0.8857\n",
            "Epoch 15/500\n",
            "375/375 [==============================] - 7s 18ms/step - loss: 0.2758 - accuracy: 0.9010 - val_loss: 0.3726 - val_accuracy: 0.8871\n",
            "Epoch 16/500\n",
            "375/375 [==============================] - 7s 18ms/step - loss: 0.2719 - accuracy: 0.9010 - val_loss: 0.3900 - val_accuracy: 0.8956\n",
            "Epoch 17/500\n",
            "375/375 [==============================] - 7s 18ms/step - loss: 0.2703 - accuracy: 0.9047 - val_loss: 0.3612 - val_accuracy: 0.8926\n",
            "Epoch 18/500\n",
            "375/375 [==============================] - 7s 18ms/step - loss: 0.2679 - accuracy: 0.9046 - val_loss: 0.3807 - val_accuracy: 0.8924\n",
            "Epoch 19/500\n",
            "375/375 [==============================] - 7s 18ms/step - loss: 0.2628 - accuracy: 0.9068 - val_loss: 0.3887 - val_accuracy: 0.8917\n",
            "Epoch 20/500\n",
            "375/375 [==============================] - 7s 19ms/step - loss: 0.2634 - accuracy: 0.9072 - val_loss: 0.4257 - val_accuracy: 0.8857\n",
            "Epoch 21/500\n",
            "375/375 [==============================] - 7s 18ms/step - loss: 0.2650 - accuracy: 0.9072 - val_loss: 0.4143 - val_accuracy: 0.8887\n",
            "Epoch 22/500\n",
            "375/375 [==============================] - 7s 18ms/step - loss: 0.2592 - accuracy: 0.9086 - val_loss: 0.4205 - val_accuracy: 0.8814\n",
            "Epoch 23/500\n",
            "375/375 [==============================] - 7s 18ms/step - loss: 0.2546 - accuracy: 0.9104 - val_loss: 0.3994 - val_accuracy: 0.8938\n",
            "Epoch 24/500\n",
            "375/375 [==============================] - 7s 18ms/step - loss: 0.2495 - accuracy: 0.9109 - val_loss: 0.3983 - val_accuracy: 0.8954\n",
            "Epoch 25/500\n",
            "375/375 [==============================] - 7s 18ms/step - loss: 0.2480 - accuracy: 0.9120 - val_loss: 0.4149 - val_accuracy: 0.8921\n",
            "Epoch 26/500\n",
            "375/375 [==============================] - 7s 18ms/step - loss: 0.2440 - accuracy: 0.9133 - val_loss: 0.4435 - val_accuracy: 0.8944\n",
            "Epoch 27/500\n",
            "375/375 [==============================] - 7s 18ms/step - loss: 0.2431 - accuracy: 0.9143 - val_loss: 0.4122 - val_accuracy: 0.8968\n",
            "Epoch 28/500\n",
            "375/375 [==============================] - 7s 18ms/step - loss: 0.2463 - accuracy: 0.9142 - val_loss: 0.4121 - val_accuracy: 0.8956\n",
            "Epoch 29/500\n",
            "375/375 [==============================] - 7s 18ms/step - loss: 0.2442 - accuracy: 0.9148 - val_loss: 0.4437 - val_accuracy: 0.8922\n",
            "Epoch 30/500\n",
            "375/375 [==============================] - 7s 18ms/step - loss: 0.2411 - accuracy: 0.9166 - val_loss: 0.4521 - val_accuracy: 0.8978\n",
            "Epoch 31/500\n",
            "375/375 [==============================] - 7s 18ms/step - loss: 0.2397 - accuracy: 0.9174 - val_loss: 0.4667 - val_accuracy: 0.8903\n",
            "Epoch 32/500\n",
            "375/375 [==============================] - 7s 18ms/step - loss: 0.2361 - accuracy: 0.9173 - val_loss: 0.4641 - val_accuracy: 0.8929\n",
            "Epoch 33/500\n",
            "375/375 [==============================] - 7s 19ms/step - loss: 0.2360 - accuracy: 0.9170 - val_loss: 0.4865 - val_accuracy: 0.8949\n",
            "Epoch 34/500\n",
            "375/375 [==============================] - 7s 18ms/step - loss: 0.2400 - accuracy: 0.9189 - val_loss: 0.4726 - val_accuracy: 0.8897\n",
            "Epoch 35/500\n",
            "375/375 [==============================] - 7s 18ms/step - loss: 0.2294 - accuracy: 0.9205 - val_loss: 0.5622 - val_accuracy: 0.8818\n",
            "Epoch 36/500\n",
            "375/375 [==============================] - 7s 18ms/step - loss: 0.2288 - accuracy: 0.9211 - val_loss: 0.5266 - val_accuracy: 0.8942\n",
            "Epoch 37/500\n",
            "375/375 [==============================] - 7s 18ms/step - loss: 0.2311 - accuracy: 0.9196 - val_loss: 0.5008 - val_accuracy: 0.8934\n",
            "Epoch 38/500\n",
            "375/375 [==============================] - 7s 18ms/step - loss: 0.2265 - accuracy: 0.9228 - val_loss: 0.5353 - val_accuracy: 0.8935\n",
            "Epoch 39/500\n",
            "375/375 [==============================] - 7s 18ms/step - loss: 0.2274 - accuracy: 0.9216 - val_loss: 0.4912 - val_accuracy: 0.8955\n",
            "Epoch 40/500\n",
            "375/375 [==============================] - 7s 18ms/step - loss: 0.2245 - accuracy: 0.9225 - val_loss: 0.5303 - val_accuracy: 0.8976\n",
            "Epoch 41/500\n",
            "375/375 [==============================] - 7s 18ms/step - loss: 0.2243 - accuracy: 0.9220 - val_loss: 0.5096 - val_accuracy: 0.8952\n",
            "Epoch 42/500\n",
            "375/375 [==============================] - 7s 18ms/step - loss: 0.2217 - accuracy: 0.9246 - val_loss: 0.5553 - val_accuracy: 0.8849\n",
            "Epoch 43/500\n",
            "375/375 [==============================] - 7s 18ms/step - loss: 0.2231 - accuracy: 0.9251 - val_loss: 0.5263 - val_accuracy: 0.8958\n",
            "Epoch 44/500\n",
            "375/375 [==============================] - 7s 18ms/step - loss: 0.2207 - accuracy: 0.9246 - val_loss: 0.5770 - val_accuracy: 0.8953\n",
            "Epoch 45/500\n",
            "375/375 [==============================] - 7s 18ms/step - loss: 0.2235 - accuracy: 0.9237 - val_loss: 0.6041 - val_accuracy: 0.8947\n",
            "Epoch 46/500\n",
            "375/375 [==============================] - 7s 18ms/step - loss: 0.2248 - accuracy: 0.9246 - val_loss: 0.5379 - val_accuracy: 0.8907\n",
            "Epoch 47/500\n",
            "375/375 [==============================] - 7s 18ms/step - loss: 0.2173 - accuracy: 0.9261 - val_loss: 0.5821 - val_accuracy: 0.8955\n",
            "Epoch 48/500\n",
            "375/375 [==============================] - 7s 18ms/step - loss: 0.2157 - accuracy: 0.9269 - val_loss: 0.6322 - val_accuracy: 0.8926\n",
            "Epoch 49/500\n",
            "375/375 [==============================] - 7s 18ms/step - loss: 0.2204 - accuracy: 0.9271 - val_loss: 0.5608 - val_accuracy: 0.8916\n",
            "Epoch 50/500\n",
            "375/375 [==============================] - 7s 18ms/step - loss: 0.2176 - accuracy: 0.9276 - val_loss: 0.5689 - val_accuracy: 0.8960\n",
            "Epoch 51/500\n",
            "375/375 [==============================] - 7s 18ms/step - loss: 0.2129 - accuracy: 0.9299 - val_loss: 0.5766 - val_accuracy: 0.8949\n",
            "Epoch 52/500\n",
            "375/375 [==============================] - 7s 18ms/step - loss: 0.2220 - accuracy: 0.9273 - val_loss: 0.5667 - val_accuracy: 0.8963\n",
            "Epoch 53/500\n",
            "375/375 [==============================] - 7s 18ms/step - loss: 0.2162 - accuracy: 0.9291 - val_loss: 0.5780 - val_accuracy: 0.8938\n",
            "Epoch 54/500\n",
            "375/375 [==============================] - 7s 18ms/step - loss: 0.2074 - accuracy: 0.9304 - val_loss: 0.6454 - val_accuracy: 0.8943\n",
            "Epoch 55/500\n",
            "375/375 [==============================] - 7s 18ms/step - loss: 0.2089 - accuracy: 0.9301 - val_loss: 0.5567 - val_accuracy: 0.8975\n",
            "Epoch 56/500\n",
            "375/375 [==============================] - 7s 18ms/step - loss: 0.2027 - accuracy: 0.9315 - val_loss: 0.7118 - val_accuracy: 0.8953\n",
            "Epoch 57/500\n",
            "375/375 [==============================] - 7s 18ms/step - loss: 0.2139 - accuracy: 0.9311 - val_loss: 0.6637 - val_accuracy: 0.8928\n",
            "Epoch 58/500\n",
            "375/375 [==============================] - 7s 18ms/step - loss: 0.2033 - accuracy: 0.9312 - val_loss: 0.6764 - val_accuracy: 0.8974\n",
            "Epoch 59/500\n",
            "375/375 [==============================] - 7s 18ms/step - loss: 0.2019 - accuracy: 0.9313 - val_loss: 0.7379 - val_accuracy: 0.8914\n",
            "Epoch 60/500\n",
            "375/375 [==============================] - 7s 18ms/step - loss: 0.2112 - accuracy: 0.9316 - val_loss: 0.6794 - val_accuracy: 0.8921\n",
            "Epoch 61/500\n",
            "375/375 [==============================] - 7s 18ms/step - loss: 0.1996 - accuracy: 0.9339 - val_loss: 0.7139 - val_accuracy: 0.8947\n",
            "Epoch 62/500\n",
            "375/375 [==============================] - 7s 18ms/step - loss: 0.2027 - accuracy: 0.9323 - val_loss: 0.6861 - val_accuracy: 0.8970\n",
            "Epoch 63/500\n",
            "375/375 [==============================] - 7s 18ms/step - loss: 0.2002 - accuracy: 0.9326 - val_loss: 0.7634 - val_accuracy: 0.8925\n",
            "Epoch 64/500\n",
            "375/375 [==============================] - 7s 18ms/step - loss: 0.2012 - accuracy: 0.9331 - val_loss: 0.7399 - val_accuracy: 0.8917\n",
            "Epoch 65/500\n",
            "375/375 [==============================] - 7s 18ms/step - loss: 0.1910 - accuracy: 0.9351 - val_loss: 0.7741 - val_accuracy: 0.8948\n",
            "Epoch 66/500\n",
            "375/375 [==============================] - 7s 18ms/step - loss: 0.1966 - accuracy: 0.9361 - val_loss: 0.6683 - val_accuracy: 0.8979\n",
            "Epoch 67/500\n",
            "375/375 [==============================] - 7s 18ms/step - loss: 0.1979 - accuracy: 0.9354 - val_loss: 0.6924 - val_accuracy: 0.8960\n",
            "Epoch 68/500\n",
            "375/375 [==============================] - 7s 18ms/step - loss: 0.2037 - accuracy: 0.9356 - val_loss: 0.6467 - val_accuracy: 0.8947\n",
            "Epoch 69/500\n",
            "375/375 [==============================] - 7s 18ms/step - loss: 0.1949 - accuracy: 0.9341 - val_loss: 0.7757 - val_accuracy: 0.8899\n",
            "Epoch 70/500\n",
            "375/375 [==============================] - 7s 18ms/step - loss: 0.1926 - accuracy: 0.9358 - val_loss: 0.7791 - val_accuracy: 0.8963\n",
            "Epoch 71/500\n",
            "375/375 [==============================] - 7s 18ms/step - loss: 0.1973 - accuracy: 0.9362 - val_loss: 0.7164 - val_accuracy: 0.8953\n",
            "Epoch 72/500\n",
            "375/375 [==============================] - 7s 18ms/step - loss: 0.1983 - accuracy: 0.9361 - val_loss: 0.8443 - val_accuracy: 0.8823\n",
            "Epoch 73/500\n",
            "375/375 [==============================] - 7s 18ms/step - loss: 0.1932 - accuracy: 0.9369 - val_loss: 0.7949 - val_accuracy: 0.8949\n",
            "Epoch 74/500\n",
            "375/375 [==============================] - 7s 18ms/step - loss: 0.1905 - accuracy: 0.9367 - val_loss: 0.7798 - val_accuracy: 0.8946\n",
            "Epoch 75/500\n",
            "375/375 [==============================] - 7s 18ms/step - loss: 0.1945 - accuracy: 0.9371 - val_loss: 0.7681 - val_accuracy: 0.8966\n",
            "Epoch 76/500\n",
            "375/375 [==============================] - 7s 18ms/step - loss: 0.1911 - accuracy: 0.9389 - val_loss: 0.7279 - val_accuracy: 0.8927\n",
            "Epoch 77/500\n",
            "375/375 [==============================] - 7s 18ms/step - loss: 0.1971 - accuracy: 0.9378 - val_loss: 0.8181 - val_accuracy: 0.8925\n",
            "Epoch 78/500\n",
            "375/375 [==============================] - 7s 18ms/step - loss: 0.1897 - accuracy: 0.9387 - val_loss: 0.8674 - val_accuracy: 0.8923\n",
            "Epoch 79/500\n",
            "375/375 [==============================] - 7s 18ms/step - loss: 0.1901 - accuracy: 0.9381 - val_loss: 0.8699 - val_accuracy: 0.8909\n",
            "Epoch 80/500\n",
            "375/375 [==============================] - 7s 18ms/step - loss: 0.1840 - accuracy: 0.9406 - val_loss: 0.8368 - val_accuracy: 0.8945\n",
            "Epoch 81/500\n",
            "375/375 [==============================] - 7s 18ms/step - loss: 0.1902 - accuracy: 0.9391 - val_loss: 0.8335 - val_accuracy: 0.8939\n"
          ]
        }
      ]
    },
    {
      "cell_type": "code",
      "source": [
        "#đánh giá chất lượng của mô hình và vẽ lại\n",
        "score = model.evaluate(x_test,y_test,verbose=0)\n",
        "print('Sai số kiểm tra là: ',score[0])\n",
        "print('Độ chính xác kiểm tra là: ',score[1])\n",
        "#vẽ đồ thị\n",
        "plt.plot(history.history['accuracy'])\n",
        "plt.plot(history.history['val_accuracy'])\n",
        "plt.title('model accuracy')\n",
        "plt.ylabel('accuracy')\n",
        "plt.xlabel('epochs')\n",
        "plt.legend(['train','Validation'])\n",
        "plt.show()"
      ],
      "metadata": {
        "colab": {
          "base_uri": "https://localhost:8080/",
          "height": 330
        },
        "id": "6oYMlRLudstu",
        "outputId": "b754be24-3f9d-4b06-de1e-9b4d843d290a"
      },
      "execution_count": null,
      "outputs": [
        {
          "output_type": "stream",
          "name": "stdout",
          "text": [
            "Sai số kiểm tra là:  0.8434401154518127\n",
            "Độ chính xác kiểm tra là:  0.8878999948501587\n"
          ]
        },
        {
          "output_type": "display_data",
          "data": {
            "text/plain": [
              "<Figure size 432x288 with 1 Axes>"
            ],
            "image/png": "[encoded data removed]"
          },
          "metadata": {
            "needs_background": "light"
          }
        }
      ]
    }
  ]
}