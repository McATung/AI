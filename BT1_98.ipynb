{
  "nbformat": 4,
  "nbformat_minor": 0,
  "metadata": {
    "colab": {
      "name": "BT1-98.ipynb",
      "provenance": [],
      "collapsed_sections": [],
      "authorship_tag": "ABX9TyMgJPryuBfCKGxKtWub4A2j",
      "include_colab_link": true
    },
    "kernelspec": {
      "name": "python3",
      "display_name": "Python 3"
    },
    "language_info": {
      "name": "python"
    }
  },
  "cells": [
    {
      "cell_type": "markdown",
      "metadata": {
        "id": "view-in-github",
        "colab_type": "text"
      },
      "source": [
        "<a href=\"https://colab.research.google.com/github/McATung/AI/blob/main/BT1_98.ipynb\" target=\"_parent\"><img src=\"https://colab.research.google.com/assets/colab-badge.svg\" alt=\"Open In Colab\"/></a>"
      ]
    },
    {
      "cell_type": "code",
      "execution_count": null,
      "metadata": {
        "id": "PvKbApEjvBBr"
      },
      "outputs": [],
      "source": [
        "#import thư viện\n",
        "import numpy as np #thư viện xử lý ma trận\n",
        "from keras.utils import np_utils # thư viện xử lý chuyển class\n",
        "from keras.datasets import mnist # gọi tập dataset chữ số viết tay\n",
        "from keras.models import Sequential # hàm chạy mô hình\n",
        "from keras.layers import Dense, Dropout # tạo mạng nơ ron\n",
        "from tensorflow.keras.optimizers import RMSprop \n",
        "import matplotlib.pyplot as plt  # thư viện dùng để vẽ"
      ]
    },
    {
      "cell_type": "code",
      "source": [
        "# chia tập dữ liệu thành 2 bộ train và test\n",
        "(x_train, y_train),(x_test,y_test) = mnist.load_data()"
      ],
      "metadata": {
        "colab": {
          "base_uri": "https://localhost:8080/"
        },
        "id": "yuN5IlN2vCQw",
        "outputId": "ec1e9892-2521-4551-ea7b-08c2aff403b6"
      },
      "execution_count": null,
      "outputs": [
        {
          "output_type": "stream",
          "name": "stdout",
          "text": [
            "Downloading data from https://storage.googleapis.com/tensorflow/tf-keras-datasets/mnist.npz\n",
            "11493376/11490434 [==============================] - 0s 0us/step\n",
            "11501568/11490434 [==============================] - 0s 0us/step\n"
          ]
        }
      ]
    },
    {
      "cell_type": "code",
      "source": [
        "# xem kích thược của tập dữ liệu\n",
        "print('Kích thước x_train: ', x_train.shape)\n",
        "print('Kích thước y_train: ', y_train.shape)\n",
        "print('Kích thước x_test: ', x_test.shape)\n",
        "print('Kích thước y_test: ', y_test.shape)"
      ],
      "metadata": {
        "colab": {
          "base_uri": "https://localhost:8080/"
        },
        "id": "8yEc-FbWvEiV",
        "outputId": "643dc6e0-fd97-4537-a528-abd8ca0e6ef4"
      },
      "execution_count": null,
      "outputs": [
        {
          "output_type": "stream",
          "name": "stdout",
          "text": [
            "Kích thước x_train:  (60000, 28, 28)\n",
            "Kích thước y_train:  (60000,)\n",
            "Kích thước x_test:  (10000, 28, 28)\n",
            "Kích thước y_test:  (10000,)\n"
          ]
        }
      ]
    },
    {
      "cell_type": "code",
      "source": [
        "#chuyển chiều của x từ 3 chiều về 2 chiều\n",
        "x_train = x_train.reshape(60000,784)\n",
        "x_test = x_test.reshape(10000,784)\n",
        "# ép kiểu\n",
        "x_train = x_train.astype('float32')\n",
        "x_test = x_test.astype('float32')\n",
        "#chuẩn hóa dữ liệu\n",
        "x_train /=255\n",
        "x_test /=255\n",
        "#chuyển y từ 1 class thành 10 class\n",
        "y_train = np_utils.to_categorical(y_train,10)\n",
        "y_test = np_utils.to_categorical(y_test,10)"
      ],
      "metadata": {
        "id": "NL-OnQ-GvGfS"
      },
      "execution_count": null,
      "outputs": []
    },
    {
      "cell_type": "code",
      "source": [
        "y_train.shape"
      ],
      "metadata": {
        "colab": {
          "base_uri": "https://localhost:8080/"
        },
        "id": "mVSvYIjavJFf",
        "outputId": "dc5b9f52-8c5e-4f8a-df25-62edd3e9dc79"
      },
      "execution_count": null,
      "outputs": [
        {
          "output_type": "execute_result",
          "data": {
            "text/plain": [
              "(60000, 10)"
            ]
          },
          "metadata": {},
          "execution_count": 5
        }
      ]
    },
    {
      "cell_type": "code",
      "source": [
        "y_test.shape"
      ],
      "metadata": {
        "colab": {
          "base_uri": "https://localhost:8080/"
        },
        "id": "b6yFi_gZvK5g",
        "outputId": "9b8be965-4e92-45ce-ed06-19dfd9b9289e"
      },
      "execution_count": null,
      "outputs": [
        {
          "output_type": "execute_result",
          "data": {
            "text/plain": [
              "(10000, 10)"
            ]
          },
          "metadata": {},
          "execution_count": 6
        }
      ]
    },
    {
      "cell_type": "code",
      "source": [
        "#tạo mạng nơ-ron\n",
        "model = Sequential()\n",
        "model.add(Dense(512,activation='relu',input_shape=(784,)))\n",
        "model.add(Dropout(0.2))\n",
        "model.add(Dense(512,activation='relu'))\n",
        "model.add(Dropout(0.2))\n",
        "model.add(Dense(10,activation='softmax'))\n",
        "model.summary()"
      ],
      "metadata": {
        "colab": {
          "base_uri": "https://localhost:8080/"
        },
        "id": "YNQBhMn1vMQ0",
        "outputId": "516eab80-9879-45cc-89e9-6f4aa6734089"
      },
      "execution_count": null,
      "outputs": [
        {
          "output_type": "stream",
          "name": "stdout",
          "text": [
            "Model: \"sequential\"\n",
            "_________________________________________________________________\n",
            " Layer (type)                Output Shape              Param #   \n",
            "=================================================================\n",
            " dense (Dense)               (None, 512)               401920    \n",
            "                                                                 \n",
            " dropout (Dropout)           (None, 512)               0         \n",
            "                                                                 \n",
            " dense_1 (Dense)             (None, 512)               262656    \n",
            "                                                                 \n",
            " dropout_1 (Dropout)         (None, 512)               0         \n",
            "                                                                 \n",
            " dense_2 (Dense)             (None, 10)                5130      \n",
            "                                                                 \n",
            "=================================================================\n",
            "Total params: 669,706\n",
            "Trainable params: 669,706\n",
            "Non-trainable params: 0\n",
            "_________________________________________________________________\n"
          ]
        }
      ]
    },
    {
      "cell_type": "code",
      "source": [
        "#chạy model với số lần học là 500 và độ kiên nhẫn là 70\n",
        "model.compile(loss='categorical_crossentropy',optimizer=RMSprop(), metrics=['accuracy'])\n",
        "model.compile(loss='categorical_crossentropy',optimizer=RMSprop(), metrics=['accuracy'])\n",
        "from keras.callbacks import EarlyStopping\n",
        "history = model.fit(x_train,y_train,batch_size=128,epochs=500,verbose=1,\n",
        "                    validation_split=0.2,callbacks=[EarlyStopping(monitor='val_loss',patience=70)])"
      ],
      "metadata": {
        "colab": {
          "base_uri": "https://localhost:8080/"
        },
        "id": "GvD_cHqMvOFl",
        "outputId": "8263e04e-1639-445f-e6d4-250582d88884"
      },
      "execution_count": null,
      "outputs": [
        {
          "output_type": "stream",
          "name": "stdout",
          "text": [
            "Epoch 1/500\n",
            "375/375 [==============================] - 8s 19ms/step - loss: 0.2777 - accuracy: 0.9146 - val_loss: 0.1216 - val_accuracy: 0.9629\n",
            "Epoch 2/500\n",
            "375/375 [==============================] - 7s 19ms/step - loss: 0.1135 - accuracy: 0.9658 - val_loss: 0.0976 - val_accuracy: 0.9721\n",
            "Epoch 3/500\n",
            "375/375 [==============================] - 7s 19ms/step - loss: 0.0796 - accuracy: 0.9756 - val_loss: 0.1135 - val_accuracy: 0.9679\n",
            "Epoch 4/500\n",
            "375/375 [==============================] - 7s 19ms/step - loss: 0.0631 - accuracy: 0.9811 - val_loss: 0.0911 - val_accuracy: 0.9758\n",
            "Epoch 5/500\n",
            "375/375 [==============================] - 7s 19ms/step - loss: 0.0512 - accuracy: 0.9840 - val_loss: 0.1145 - val_accuracy: 0.9735\n",
            "Epoch 6/500\n",
            "375/375 [==============================] - 7s 19ms/step - loss: 0.0445 - accuracy: 0.9870 - val_loss: 0.1052 - val_accuracy: 0.9760\n",
            "Epoch 7/500\n",
            "375/375 [==============================] - 8s 20ms/step - loss: 0.0388 - accuracy: 0.9886 - val_loss: 0.0975 - val_accuracy: 0.9789\n",
            "Epoch 8/500\n",
            "375/375 [==============================] - 7s 20ms/step - loss: 0.0348 - accuracy: 0.9894 - val_loss: 0.1071 - val_accuracy: 0.9790\n",
            "Epoch 9/500\n",
            "375/375 [==============================] - 7s 19ms/step - loss: 0.0296 - accuracy: 0.9909 - val_loss: 0.1036 - val_accuracy: 0.9800\n",
            "Epoch 10/500\n",
            "375/375 [==============================] - 7s 19ms/step - loss: 0.0257 - accuracy: 0.9919 - val_loss: 0.1224 - val_accuracy: 0.9793\n",
            "Epoch 11/500\n",
            "375/375 [==============================] - 7s 19ms/step - loss: 0.0252 - accuracy: 0.9922 - val_loss: 0.1265 - val_accuracy: 0.9795\n",
            "Epoch 12/500\n",
            "375/375 [==============================] - 7s 19ms/step - loss: 0.0243 - accuracy: 0.9930 - val_loss: 0.1167 - val_accuracy: 0.9797\n",
            "Epoch 13/500\n",
            "375/375 [==============================] - 7s 19ms/step - loss: 0.0197 - accuracy: 0.9937 - val_loss: 0.1220 - val_accuracy: 0.9813\n",
            "Epoch 14/500\n",
            "375/375 [==============================] - 7s 19ms/step - loss: 0.0212 - accuracy: 0.9939 - val_loss: 0.1272 - val_accuracy: 0.9804\n",
            "Epoch 15/500\n",
            "375/375 [==============================] - 7s 19ms/step - loss: 0.0198 - accuracy: 0.9942 - val_loss: 0.1364 - val_accuracy: 0.9805\n",
            "Epoch 16/500\n",
            "375/375 [==============================] - 7s 19ms/step - loss: 0.0193 - accuracy: 0.9945 - val_loss: 0.1282 - val_accuracy: 0.9812\n",
            "Epoch 17/500\n",
            "375/375 [==============================] - 7s 19ms/step - loss: 0.0175 - accuracy: 0.9954 - val_loss: 0.1531 - val_accuracy: 0.9793\n",
            "Epoch 18/500\n",
            "375/375 [==============================] - 7s 19ms/step - loss: 0.0153 - accuracy: 0.9952 - val_loss: 0.1466 - val_accuracy: 0.9803\n",
            "Epoch 19/500\n",
            "375/375 [==============================] - 7s 19ms/step - loss: 0.0174 - accuracy: 0.9949 - val_loss: 0.1546 - val_accuracy: 0.9797\n",
            "Epoch 20/500\n",
            "375/375 [==============================] - 7s 19ms/step - loss: 0.0151 - accuracy: 0.9958 - val_loss: 0.1584 - val_accuracy: 0.9814\n",
            "Epoch 21/500\n",
            "375/375 [==============================] - 7s 19ms/step - loss: 0.0134 - accuracy: 0.9963 - val_loss: 0.1652 - val_accuracy: 0.9795\n",
            "Epoch 22/500\n",
            "375/375 [==============================] - 7s 19ms/step - loss: 0.0170 - accuracy: 0.9957 - val_loss: 0.1745 - val_accuracy: 0.9791\n",
            "Epoch 23/500\n",
            "375/375 [==============================] - 7s 20ms/step - loss: 0.0141 - accuracy: 0.9962 - val_loss: 0.1893 - val_accuracy: 0.9798\n",
            "Epoch 24/500\n",
            "375/375 [==============================] - 7s 19ms/step - loss: 0.0129 - accuracy: 0.9963 - val_loss: 0.1804 - val_accuracy: 0.9792\n",
            "Epoch 25/500\n",
            "375/375 [==============================] - 8s 21ms/step - loss: 0.0147 - accuracy: 0.9964 - val_loss: 0.1721 - val_accuracy: 0.9813\n",
            "Epoch 26/500\n",
            "375/375 [==============================] - 7s 20ms/step - loss: 0.0146 - accuracy: 0.9963 - val_loss: 0.1708 - val_accuracy: 0.9808\n",
            "Epoch 27/500\n",
            "375/375 [==============================] - 7s 19ms/step - loss: 0.0130 - accuracy: 0.9965 - val_loss: 0.1781 - val_accuracy: 0.9820\n",
            "Epoch 28/500\n",
            "375/375 [==============================] - 7s 19ms/step - loss: 0.0136 - accuracy: 0.9960 - val_loss: 0.1800 - val_accuracy: 0.9796\n",
            "Epoch 29/500\n",
            "375/375 [==============================] - 7s 19ms/step - loss: 0.0112 - accuracy: 0.9967 - val_loss: 0.1745 - val_accuracy: 0.9819\n",
            "Epoch 30/500\n",
            "375/375 [==============================] - 7s 19ms/step - loss: 0.0125 - accuracy: 0.9968 - val_loss: 0.1813 - val_accuracy: 0.9810\n",
            "Epoch 31/500\n",
            "375/375 [==============================] - 7s 19ms/step - loss: 0.0110 - accuracy: 0.9971 - val_loss: 0.1644 - val_accuracy: 0.9835\n",
            "Epoch 32/500\n",
            "375/375 [==============================] - 7s 19ms/step - loss: 0.0103 - accuracy: 0.9973 - val_loss: 0.2293 - val_accuracy: 0.9800\n",
            "Epoch 33/500\n",
            "375/375 [==============================] - 7s 19ms/step - loss: 0.0118 - accuracy: 0.9972 - val_loss: 0.1782 - val_accuracy: 0.9802\n",
            "Epoch 34/500\n",
            "375/375 [==============================] - 7s 19ms/step - loss: 0.0102 - accuracy: 0.9974 - val_loss: 0.1919 - val_accuracy: 0.9817\n",
            "Epoch 35/500\n",
            "375/375 [==============================] - 7s 19ms/step - loss: 0.0112 - accuracy: 0.9972 - val_loss: 0.1948 - val_accuracy: 0.9820\n",
            "Epoch 36/500\n",
            "375/375 [==============================] - 7s 19ms/step - loss: 0.0126 - accuracy: 0.9970 - val_loss: 0.1882 - val_accuracy: 0.9822\n",
            "Epoch 37/500\n",
            "375/375 [==============================] - 7s 19ms/step - loss: 0.0084 - accuracy: 0.9979 - val_loss: 0.2118 - val_accuracy: 0.9813\n",
            "Epoch 38/500\n",
            "375/375 [==============================] - 7s 19ms/step - loss: 0.0106 - accuracy: 0.9972 - val_loss: 0.2128 - val_accuracy: 0.9817\n",
            "Epoch 39/500\n",
            "375/375 [==============================] - 7s 19ms/step - loss: 0.0110 - accuracy: 0.9976 - val_loss: 0.2386 - val_accuracy: 0.9808\n",
            "Epoch 40/500\n",
            "375/375 [==============================] - 7s 19ms/step - loss: 0.0097 - accuracy: 0.9975 - val_loss: 0.2160 - val_accuracy: 0.9820\n",
            "Epoch 41/500\n",
            "375/375 [==============================] - 7s 19ms/step - loss: 0.0096 - accuracy: 0.9975 - val_loss: 0.2471 - val_accuracy: 0.9802\n",
            "Epoch 42/500\n",
            "375/375 [==============================] - 7s 19ms/step - loss: 0.0092 - accuracy: 0.9976 - val_loss: 0.2237 - val_accuracy: 0.9822\n",
            "Epoch 43/500\n",
            "375/375 [==============================] - 7s 19ms/step - loss: 0.0092 - accuracy: 0.9979 - val_loss: 0.2304 - val_accuracy: 0.9812\n",
            "Epoch 44/500\n",
            "375/375 [==============================] - 7s 19ms/step - loss: 0.0096 - accuracy: 0.9976 - val_loss: 0.2330 - val_accuracy: 0.9812\n",
            "Epoch 45/500\n",
            "375/375 [==============================] - 7s 19ms/step - loss: 0.0078 - accuracy: 0.9979 - val_loss: 0.2330 - val_accuracy: 0.9826\n",
            "Epoch 46/500\n",
            "375/375 [==============================] - 7s 19ms/step - loss: 0.0107 - accuracy: 0.9978 - val_loss: 0.2175 - val_accuracy: 0.9833\n",
            "Epoch 47/500\n",
            "375/375 [==============================] - 7s 19ms/step - loss: 0.0098 - accuracy: 0.9978 - val_loss: 0.2126 - val_accuracy: 0.9822\n",
            "Epoch 48/500\n",
            "375/375 [==============================] - 7s 19ms/step - loss: 0.0084 - accuracy: 0.9982 - val_loss: 0.2200 - val_accuracy: 0.9837\n",
            "Epoch 49/500\n",
            "375/375 [==============================] - 7s 19ms/step - loss: 0.0103 - accuracy: 0.9979 - val_loss: 0.2391 - val_accuracy: 0.9812\n",
            "Epoch 50/500\n",
            "375/375 [==============================] - 7s 20ms/step - loss: 0.0079 - accuracy: 0.9983 - val_loss: 0.2466 - val_accuracy: 0.9824\n",
            "Epoch 51/500\n",
            "375/375 [==============================] - 8s 20ms/step - loss: 0.0104 - accuracy: 0.9980 - val_loss: 0.2210 - val_accuracy: 0.9826\n",
            "Epoch 52/500\n",
            "375/375 [==============================] - 7s 20ms/step - loss: 0.0098 - accuracy: 0.9979 - val_loss: 0.2340 - val_accuracy: 0.9823\n",
            "Epoch 53/500\n",
            "375/375 [==============================] - 7s 20ms/step - loss: 0.0081 - accuracy: 0.9983 - val_loss: 0.2468 - val_accuracy: 0.9824\n",
            "Epoch 54/500\n",
            "375/375 [==============================] - 8s 21ms/step - loss: 0.0090 - accuracy: 0.9981 - val_loss: 0.2694 - val_accuracy: 0.9804\n",
            "Epoch 55/500\n",
            "375/375 [==============================] - 8s 21ms/step - loss: 0.0084 - accuracy: 0.9982 - val_loss: 0.2373 - val_accuracy: 0.9828\n",
            "Epoch 56/500\n",
            "375/375 [==============================] - 8s 22ms/step - loss: 0.0089 - accuracy: 0.9984 - val_loss: 0.2516 - val_accuracy: 0.9828\n",
            "Epoch 57/500\n",
            "375/375 [==============================] - 9s 23ms/step - loss: 0.0071 - accuracy: 0.9985 - val_loss: 0.2518 - val_accuracy: 0.9812\n",
            "Epoch 58/500\n",
            "375/375 [==============================] - 8s 21ms/step - loss: 0.0070 - accuracy: 0.9982 - val_loss: 0.2726 - val_accuracy: 0.9815\n",
            "Epoch 59/500\n",
            "375/375 [==============================] - 8s 20ms/step - loss: 0.0083 - accuracy: 0.9984 - val_loss: 0.2707 - val_accuracy: 0.9810\n",
            "Epoch 60/500\n",
            "375/375 [==============================] - 8s 21ms/step - loss: 0.0091 - accuracy: 0.9983 - val_loss: 0.2621 - val_accuracy: 0.9826\n",
            "Epoch 61/500\n",
            "375/375 [==============================] - 8s 22ms/step - loss: 0.0097 - accuracy: 0.9980 - val_loss: 0.2728 - val_accuracy: 0.9822\n",
            "Epoch 62/500\n",
            "375/375 [==============================] - 7s 20ms/step - loss: 0.0090 - accuracy: 0.9981 - val_loss: 0.2655 - val_accuracy: 0.9816\n",
            "Epoch 63/500\n",
            "375/375 [==============================] - 7s 20ms/step - loss: 0.0096 - accuracy: 0.9981 - val_loss: 0.2576 - val_accuracy: 0.9823\n",
            "Epoch 64/500\n",
            "375/375 [==============================] - 7s 20ms/step - loss: 0.0084 - accuracy: 0.9983 - val_loss: 0.2558 - val_accuracy: 0.9818\n",
            "Epoch 65/500\n",
            "375/375 [==============================] - 7s 19ms/step - loss: 0.0100 - accuracy: 0.9981 - val_loss: 0.2516 - val_accuracy: 0.9827\n",
            "Epoch 66/500\n",
            "375/375 [==============================] - 7s 19ms/step - loss: 0.0065 - accuracy: 0.9984 - val_loss: 0.2642 - val_accuracy: 0.9833\n",
            "Epoch 67/500\n",
            "375/375 [==============================] - 7s 20ms/step - loss: 0.0087 - accuracy: 0.9981 - val_loss: 0.2594 - val_accuracy: 0.9832\n",
            "Epoch 68/500\n",
            "375/375 [==============================] - 7s 20ms/step - loss: 0.0076 - accuracy: 0.9984 - val_loss: 0.2761 - val_accuracy: 0.9833\n",
            "Epoch 69/500\n",
            "375/375 [==============================] - 7s 20ms/step - loss: 0.0081 - accuracy: 0.9984 - val_loss: 0.2480 - val_accuracy: 0.9841\n",
            "Epoch 70/500\n",
            "375/375 [==============================] - 7s 20ms/step - loss: 0.0089 - accuracy: 0.9981 - val_loss: 0.2879 - val_accuracy: 0.9804\n",
            "Epoch 71/500\n",
            "375/375 [==============================] - 7s 19ms/step - loss: 0.0096 - accuracy: 0.9984 - val_loss: 0.2936 - val_accuracy: 0.9823\n",
            "Epoch 72/500\n",
            "375/375 [==============================] - 7s 20ms/step - loss: 0.0100 - accuracy: 0.9982 - val_loss: 0.2609 - val_accuracy: 0.9821\n",
            "Epoch 73/500\n",
            "375/375 [==============================] - 8s 20ms/step - loss: 0.0049 - accuracy: 0.9988 - val_loss: 0.3146 - val_accuracy: 0.9817\n",
            "Epoch 74/500\n",
            "375/375 [==============================] - 8s 21ms/step - loss: 0.0077 - accuracy: 0.9986 - val_loss: 0.2800 - val_accuracy: 0.9830\n"
          ]
        }
      ]
    },
    {
      "cell_type": "code",
      "source": [
        "#đánh giá chất lượng của mô hình và vẽ lại\n",
        "score = model.evaluate(x_test,y_test,verbose=0)\n",
        "print('Sai số kiểm tra là: ',score[0])\n",
        "print('Độ chính xác kiểm tra là: ',score[1])\n",
        "#vẽ đồ thị\n",
        "plt.plot(history.history['accuracy'])\n",
        "plt.plot(history.history['val_accuracy'])\n",
        "plt.title('model accuracy')\n",
        "plt.ylabel('accuracy')\n",
        "plt.xlabel('epochs')\n",
        "plt.legend(['train','Validation'])\n",
        "plt.show()"
      ],
      "metadata": {
        "colab": {
          "base_uri": "https://localhost:8080/",
          "height": 330
        },
        "id": "--GMeTIAvT0G",
        "outputId": "1b367796-d3be-4c3b-dd3e-c472c9507c8f"
      },
      "execution_count": null,
      "outputs": [
        {
          "output_type": "stream",
          "name": "stdout",
          "text": [
            "Sai số kiểm tra là:  0.24893467128276825\n",
            "Độ chính xác kiểm tra là:  0.9850000143051147\n"
          ]
        },
        {
          "output_type": "display_data",
          "data": {
            "text/plain": [
              "<Figure size 432x288 with 1 Axes>"
            ],
            "image/png": "[encoded data removed]"
          },
          "metadata": {
            "needs_background": "light"
          }
        }
      ]
    }
  ]
}